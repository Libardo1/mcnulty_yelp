{
 "cells": [
  {
   "cell_type": "code",
   "execution_count": 158,
   "metadata": {
    "collapsed": true
   },
   "outputs": [],
   "source": [
    "import pandas as pd\n",
    "import numpy as np\n",
    "import json\n",
    "import os\n",
    "import flatdict"
   ]
  },
  {
   "cell_type": "markdown",
   "metadata": {},
   "source": [
    "# Extract Business Data Set"
   ]
  },
  {
   "cell_type": "code",
   "execution_count": 159,
   "metadata": {
    "collapsed": false
   },
   "outputs": [],
   "source": [
    "businesses = []\n",
    "with open('C:/Users/kenndanielso/Downloads/yelp_dataset_challenge_academic_dataset/yelp_academic_dataset_business.json') as f:\n",
    "    for business in f:\n",
    "        businesses.append(json.loads(business))\n",
    "        \n",
    "businesses2 = businesses\n",
    "\n",
    "business_df = pd.DataFrame(businesses2)"
   ]
  },
  {
   "cell_type": "code",
   "execution_count": 160,
   "metadata": {
    "collapsed": false
   },
   "outputs": [
    {
     "name": "stdout",
     "output_type": "stream",
     "text": [
      "<class 'pandas.core.frame.DataFrame'>\n",
      "RangeIndex: 77445 entries, 0 to 77444\n",
      "Data columns (total 15 columns):\n",
      "attributes       77445 non-null object\n",
      "business_id      77445 non-null object\n",
      "categories       77445 non-null object\n",
      "city             77445 non-null object\n",
      "full_address     77445 non-null object\n",
      "hours            77445 non-null object\n",
      "latitude         77445 non-null float64\n",
      "longitude        77445 non-null float64\n",
      "name             77445 non-null object\n",
      "neighborhoods    77445 non-null object\n",
      "open             77445 non-null bool\n",
      "review_count     77445 non-null int64\n",
      "stars            77445 non-null float64\n",
      "state            77445 non-null object\n",
      "type             77445 non-null object\n",
      "dtypes: bool(1), float64(3), int64(1), object(10)\n",
      "memory usage: 8.3+ MB\n"
     ]
    }
   ],
   "source": [
    "business_df.info()"
   ]
  },
  {
   "cell_type": "code",
   "execution_count": 161,
   "metadata": {
    "collapsed": false
   },
   "outputs": [
    {
     "data": {
      "text/plain": [
       "Las Vegas            17423\n",
       "Phoenix              10629\n",
       "Charlotte             5189\n",
       "Scottsdale            5139\n",
       "Montréal              3891\n",
       "Pittsburgh            3337\n",
       "Edinburgh             3272\n",
       "Mesa                  3190\n",
       "Henderson             2839\n",
       "Tempe                 2773\n",
       "Chandler              2425\n",
       "Madison               2104\n",
       "Glendale              1823\n",
       "Gilbert               1716\n",
       "Peoria                 929\n",
       "Karlsruhe              898\n",
       "North Las Vegas        819\n",
       "Surprise               587\n",
       "Champaign              462\n",
       "Goodyear               459\n",
       "Avondale               386\n",
       "Queen Creek            348\n",
       "Matthews               346\n",
       "Waterloo               262\n",
       "Urbana                 262\n",
       "Fort Mill              238\n",
       "Cave Creek             229\n",
       "Middleton              208\n",
       "Laval                  196\n",
       "Kitchener              188\n",
       "                     ...  \n",
       "Old Montreal             1\n",
       "Central Henderson        1\n",
       "Pineville                1\n",
       "Saint Leonard            1\n",
       "Phoenix-Ahwatukee        1\n",
       "Cote Saint-Luc           1\n",
       "South Gyle               1\n",
       "New Dundee               1\n",
       "Mesa                     1\n",
       "Regent Square            1\n",
       "W Summerlin              1\n",
       "Queen Valley             1\n",
       "East Liberty             1\n",
       "Sunrise                  1\n",
       "Sainte-Genevieve         1\n",
       "Balerno                  1\n",
       "Rockport                 1\n",
       "Oregon                   1\n",
       "Delmont                  1\n",
       "Surprise Crossing        1\n",
       "Maricopa AZ              1\n",
       "Fabreville               1\n",
       "Roslin                   1\n",
       "Peoria                   1\n",
       "L'Île-des-Soeurs         1\n",
       "Wörth                    1\n",
       "henderson                1\n",
       "Victoria Park            1\n",
       "Green Valley             1\n",
       "Newington                1\n",
       "Name: city, dtype: int64"
      ]
     },
     "execution_count": 161,
     "metadata": {},
     "output_type": "execute_result"
    }
   ],
   "source": [
    "business_df.city.value_counts()"
   ]
  },
  {
   "cell_type": "code",
   "execution_count": 162,
   "metadata": {
    "collapsed": false
   },
   "outputs": [],
   "source": [
    "import pickle\n",
    "with open('C:/Users/kenndanielso/Documents/Github/mcnulty_yelp/data/business_df.pkl', 'wb') as picklefile: \n",
    "    pickle.dump(business_df, picklefile)"
   ]
  },
  {
   "cell_type": "markdown",
   "metadata": {},
   "source": [
    "# Extract Review Dataset"
   ]
  },
  {
   "cell_type": "code",
   "execution_count": 163,
   "metadata": {
    "collapsed": false
   },
   "outputs": [],
   "source": [
    "reviews = []\n",
    "with open('C:/Users/kenndanielso/Downloads/yelp_dataset_challenge_academic_dataset/yelp_academic_dataset_review.json') as f:\n",
    "    for review in f:\n",
    "        reviews.append(json.loads(review))\n",
    "    \n",
    "reviews2 = reviews\n",
    "\n",
    "review_df = pd.DataFrame(reviews2)"
   ]
  },
  {
   "cell_type": "code",
   "execution_count": 164,
   "metadata": {
    "collapsed": false,
    "scrolled": true
   },
   "outputs": [
    {
     "name": "stdout",
     "output_type": "stream",
     "text": [
      "<class 'pandas.core.frame.DataFrame'>\n",
      "RangeIndex: 2225213 entries, 0 to 2225212\n",
      "Data columns (total 8 columns):\n",
      "business_id    object\n",
      "date           object\n",
      "review_id      object\n",
      "stars          int64\n",
      "text           object\n",
      "type           object\n",
      "user_id        object\n",
      "votes          object\n",
      "dtypes: int64(1), object(7)\n",
      "memory usage: 135.8+ MB\n"
     ]
    }
   ],
   "source": [
    "review_df.info()"
   ]
  },
  {
   "cell_type": "code",
   "execution_count": 165,
   "metadata": {
    "collapsed": true
   },
   "outputs": [],
   "source": [
    "import pickle\n",
    "with open('C:/Users/kenndanielso/Documents/Github/mcnulty_yelp/data/review_df.pkl', 'wb') as picklefile: \n",
    "    pickle.dump(review_df, picklefile)"
   ]
  },
  {
   "cell_type": "markdown",
   "metadata": {},
   "source": [
    "# Select only relevant business data to map to review data (TBU)"
   ]
  },
  {
   "cell_type": "code",
   "execution_count": 166,
   "metadata": {
    "collapsed": true
   },
   "outputs": [],
   "source": [
    "with open(\"C:/Users/kenndanielso/Documents/Github/mcnulty_yelp/data/business_df.pkl\", 'rb') as picklefile: \n",
    "    business_df = pickle.load(picklefile)"
   ]
  },
  {
   "cell_type": "code",
   "execution_count": 167,
   "metadata": {
    "collapsed": false
   },
   "outputs": [
    {
     "name": "stdout",
     "output_type": "stream",
     "text": [
      "<class 'pandas.core.frame.DataFrame'>\n",
      "RangeIndex: 77445 entries, 0 to 77444\n",
      "Data columns (total 15 columns):\n",
      "attributes       77445 non-null object\n",
      "business_id      77445 non-null object\n",
      "categories       77445 non-null object\n",
      "city             77445 non-null object\n",
      "full_address     77445 non-null object\n",
      "hours            77445 non-null object\n",
      "latitude         77445 non-null float64\n",
      "longitude        77445 non-null float64\n",
      "name             77445 non-null object\n",
      "neighborhoods    77445 non-null object\n",
      "open             77445 non-null bool\n",
      "review_count     77445 non-null int64\n",
      "stars            77445 non-null float64\n",
      "state            77445 non-null object\n",
      "type             77445 non-null object\n",
      "dtypes: bool(1), float64(3), int64(1), object(10)\n",
      "memory usage: 8.3+ MB\n"
     ]
    }
   ],
   "source": [
    "business_df.info()"
   ]
  },
  {
   "cell_type": "code",
   "execution_count": 168,
   "metadata": {
    "collapsed": false
   },
   "outputs": [],
   "source": [
    "business_df_short = business_df[['name','city','open','review_count','stars','state','business_id','categories','latitude','longitude']]"
   ]
  },
  {
   "cell_type": "code",
   "execution_count": 169,
   "metadata": {
    "collapsed": false
   },
   "outputs": [
    {
     "data": {
      "text/html": [
       "<div>\n",
       "<table border=\"1\" class=\"dataframe\">\n",
       "  <thead>\n",
       "    <tr style=\"text-align: right;\">\n",
       "      <th></th>\n",
       "      <th>name</th>\n",
       "      <th>city</th>\n",
       "      <th>open</th>\n",
       "      <th>review_count</th>\n",
       "      <th>stars</th>\n",
       "      <th>state</th>\n",
       "      <th>business_id</th>\n",
       "      <th>categories</th>\n",
       "      <th>latitude</th>\n",
       "      <th>longitude</th>\n",
       "    </tr>\n",
       "  </thead>\n",
       "  <tbody>\n",
       "    <tr>\n",
       "      <th>0</th>\n",
       "      <td>Mr Hoagie</td>\n",
       "      <td>Dravosburg</td>\n",
       "      <td>True</td>\n",
       "      <td>4</td>\n",
       "      <td>4.5</td>\n",
       "      <td>PA</td>\n",
       "      <td>5UmKMjUEUNdYWqANhGckJw</td>\n",
       "      <td>[Fast Food, Restaurants]</td>\n",
       "      <td>40.354327</td>\n",
       "      <td>-79.900706</td>\n",
       "    </tr>\n",
       "    <tr>\n",
       "      <th>1</th>\n",
       "      <td>Clancy's Pub</td>\n",
       "      <td>Dravosburg</td>\n",
       "      <td>True</td>\n",
       "      <td>4</td>\n",
       "      <td>3.5</td>\n",
       "      <td>PA</td>\n",
       "      <td>UsFtqoBl7naz8AVUBZMjQQ</td>\n",
       "      <td>[Nightlife]</td>\n",
       "      <td>40.350553</td>\n",
       "      <td>-79.886814</td>\n",
       "    </tr>\n",
       "    <tr>\n",
       "      <th>2</th>\n",
       "      <td>Joe Cislo's Auto</td>\n",
       "      <td>Dravosburg</td>\n",
       "      <td>True</td>\n",
       "      <td>3</td>\n",
       "      <td>5.0</td>\n",
       "      <td>PA</td>\n",
       "      <td>3eu6MEFlq2Dg7bQh8QbdOg</td>\n",
       "      <td>[Auto Repair, Automotive]</td>\n",
       "      <td>40.350956</td>\n",
       "      <td>-79.889059</td>\n",
       "    </tr>\n",
       "    <tr>\n",
       "      <th>3</th>\n",
       "      <td>Cool Springs Golf Center</td>\n",
       "      <td>Bethel Park</td>\n",
       "      <td>False</td>\n",
       "      <td>5</td>\n",
       "      <td>2.5</td>\n",
       "      <td>PA</td>\n",
       "      <td>cE27W9VPgO88Qxe4ol6y_g</td>\n",
       "      <td>[Active Life, Mini Golf, Golf]</td>\n",
       "      <td>40.354115</td>\n",
       "      <td>-80.014660</td>\n",
       "    </tr>\n",
       "    <tr>\n",
       "      <th>4</th>\n",
       "      <td>Verizon</td>\n",
       "      <td>Pittsburgh</td>\n",
       "      <td>True</td>\n",
       "      <td>5</td>\n",
       "      <td>2.5</td>\n",
       "      <td>PA</td>\n",
       "      <td>HZdLhv6COCleJMo7nPl-RA</td>\n",
       "      <td>[Shopping, Home Services, Internet Service Pro...</td>\n",
       "      <td>40.357620</td>\n",
       "      <td>-80.059980</td>\n",
       "    </tr>\n",
       "  </tbody>\n",
       "</table>\n",
       "</div>"
      ],
      "text/plain": [
       "                       name         city   open  review_count  stars state  \\\n",
       "0                 Mr Hoagie   Dravosburg   True             4    4.5    PA   \n",
       "1              Clancy's Pub   Dravosburg   True             4    3.5    PA   \n",
       "2          Joe Cislo's Auto   Dravosburg   True             3    5.0    PA   \n",
       "3  Cool Springs Golf Center  Bethel Park  False             5    2.5    PA   \n",
       "4                   Verizon   Pittsburgh   True             5    2.5    PA   \n",
       "\n",
       "              business_id                                         categories  \\\n",
       "0  5UmKMjUEUNdYWqANhGckJw                           [Fast Food, Restaurants]   \n",
       "1  UsFtqoBl7naz8AVUBZMjQQ                                        [Nightlife]   \n",
       "2  3eu6MEFlq2Dg7bQh8QbdOg                          [Auto Repair, Automotive]   \n",
       "3  cE27W9VPgO88Qxe4ol6y_g                     [Active Life, Mini Golf, Golf]   \n",
       "4  HZdLhv6COCleJMo7nPl-RA  [Shopping, Home Services, Internet Service Pro...   \n",
       "\n",
       "    latitude  longitude  \n",
       "0  40.354327 -79.900706  \n",
       "1  40.350553 -79.886814  \n",
       "2  40.350956 -79.889059  \n",
       "3  40.354115 -80.014660  \n",
       "4  40.357620 -80.059980  "
      ]
     },
     "execution_count": 169,
     "metadata": {},
     "output_type": "execute_result"
    }
   ],
   "source": [
    "business_df_short.head()"
   ]
  },
  {
   "cell_type": "markdown",
   "metadata": {},
   "source": [
    "# Select only relevant review data (TBU)"
   ]
  },
  {
   "cell_type": "code",
   "execution_count": 170,
   "metadata": {
    "collapsed": true
   },
   "outputs": [],
   "source": [
    "with open(\"C:/Users/kenndanielso/Documents/Github/mcnulty_yelp/data/review_df.pkl\", 'rb') as picklefile: \n",
    "    review_df = pickle.load(picklefile)"
   ]
  },
  {
   "cell_type": "code",
   "execution_count": 171,
   "metadata": {
    "collapsed": false
   },
   "outputs": [
    {
     "name": "stdout",
     "output_type": "stream",
     "text": [
      "<class 'pandas.core.frame.DataFrame'>\n",
      "RangeIndex: 2225213 entries, 0 to 2225212\n",
      "Data columns (total 8 columns):\n",
      "business_id    object\n",
      "date           object\n",
      "review_id      object\n",
      "stars          int64\n",
      "text           object\n",
      "type           object\n",
      "user_id        object\n",
      "votes          object\n",
      "dtypes: int64(1), object(7)\n",
      "memory usage: 135.8+ MB\n"
     ]
    }
   ],
   "source": [
    "review_df.info()"
   ]
  },
  {
   "cell_type": "code",
   "execution_count": 172,
   "metadata": {
    "collapsed": true
   },
   "outputs": [],
   "source": [
    "review_df_short = review_df[['text','stars','date','business_id','user_id','review_id']]"
   ]
  },
  {
   "cell_type": "code",
   "execution_count": 173,
   "metadata": {
    "collapsed": false
   },
   "outputs": [
    {
     "data": {
      "text/html": [
       "<div>\n",
       "<table border=\"1\" class=\"dataframe\">\n",
       "  <thead>\n",
       "    <tr style=\"text-align: right;\">\n",
       "      <th></th>\n",
       "      <th>text</th>\n",
       "      <th>stars</th>\n",
       "      <th>date</th>\n",
       "      <th>business_id</th>\n",
       "      <th>user_id</th>\n",
       "      <th>review_id</th>\n",
       "    </tr>\n",
       "  </thead>\n",
       "  <tbody>\n",
       "    <tr>\n",
       "      <th>0</th>\n",
       "      <td>Mr Hoagie is an institution. Walking in, it do...</td>\n",
       "      <td>4</td>\n",
       "      <td>2012-08-01</td>\n",
       "      <td>5UmKMjUEUNdYWqANhGckJw</td>\n",
       "      <td>PUFPaY9KxDAcGqfsorJp3Q</td>\n",
       "      <td>Ya85v4eqdd6k9Od8HbQjyA</td>\n",
       "    </tr>\n",
       "    <tr>\n",
       "      <th>1</th>\n",
       "      <td>Excellent food. Superb customer service. I mis...</td>\n",
       "      <td>5</td>\n",
       "      <td>2014-02-13</td>\n",
       "      <td>5UmKMjUEUNdYWqANhGckJw</td>\n",
       "      <td>Iu6AxdBYGR4A0wspR9BYHA</td>\n",
       "      <td>KPvLNJ21_4wbYNctrOwWdQ</td>\n",
       "    </tr>\n",
       "    <tr>\n",
       "      <th>2</th>\n",
       "      <td>Yes this place is a little out dated and not o...</td>\n",
       "      <td>5</td>\n",
       "      <td>2015-10-31</td>\n",
       "      <td>5UmKMjUEUNdYWqANhGckJw</td>\n",
       "      <td>auESFwWvW42h6alXgFxAXQ</td>\n",
       "      <td>fFSoGV46Yxuwbr3fHNuZig</td>\n",
       "    </tr>\n",
       "    <tr>\n",
       "      <th>3</th>\n",
       "      <td>All the food is great here. But the best thing...</td>\n",
       "      <td>5</td>\n",
       "      <td>2013-11-08</td>\n",
       "      <td>UsFtqoBl7naz8AVUBZMjQQ</td>\n",
       "      <td>uK8tzraOp4M5u3uYrqIBXg</td>\n",
       "      <td>Di3exaUCFNw1V4kSNW5pgA</td>\n",
       "    </tr>\n",
       "    <tr>\n",
       "      <th>4</th>\n",
       "      <td>We checked this place out this past Monday for...</td>\n",
       "      <td>3</td>\n",
       "      <td>2014-03-29</td>\n",
       "      <td>UsFtqoBl7naz8AVUBZMjQQ</td>\n",
       "      <td>I_47G-R2_egp7ME5u_ltew</td>\n",
       "      <td>0Lua2-PbqEQMjD9r89-asw</td>\n",
       "    </tr>\n",
       "  </tbody>\n",
       "</table>\n",
       "</div>"
      ],
      "text/plain": [
       "                                                text  stars        date  \\\n",
       "0  Mr Hoagie is an institution. Walking in, it do...      4  2012-08-01   \n",
       "1  Excellent food. Superb customer service. I mis...      5  2014-02-13   \n",
       "2  Yes this place is a little out dated and not o...      5  2015-10-31   \n",
       "3  All the food is great here. But the best thing...      5  2013-11-08   \n",
       "4  We checked this place out this past Monday for...      3  2014-03-29   \n",
       "\n",
       "              business_id                 user_id               review_id  \n",
       "0  5UmKMjUEUNdYWqANhGckJw  PUFPaY9KxDAcGqfsorJp3Q  Ya85v4eqdd6k9Od8HbQjyA  \n",
       "1  5UmKMjUEUNdYWqANhGckJw  Iu6AxdBYGR4A0wspR9BYHA  KPvLNJ21_4wbYNctrOwWdQ  \n",
       "2  5UmKMjUEUNdYWqANhGckJw  auESFwWvW42h6alXgFxAXQ  fFSoGV46Yxuwbr3fHNuZig  \n",
       "3  UsFtqoBl7naz8AVUBZMjQQ  uK8tzraOp4M5u3uYrqIBXg  Di3exaUCFNw1V4kSNW5pgA  \n",
       "4  UsFtqoBl7naz8AVUBZMjQQ  I_47G-R2_egp7ME5u_ltew  0Lua2-PbqEQMjD9r89-asw  "
      ]
     },
     "execution_count": 173,
     "metadata": {},
     "output_type": "execute_result"
    }
   ],
   "source": [
    "review_df_short.head()"
   ]
  },
  {
   "cell_type": "markdown",
   "metadata": {},
   "source": [
    "# Limit only to Restaurants only (to be agreed upon)\n",
    "### Stricly looking for the word 'restaurant' but can be expanded to include others (e.g. fast food)"
   ]
  },
  {
   "cell_type": "code",
   "execution_count": 174,
   "metadata": {
    "collapsed": false
   },
   "outputs": [
    {
     "data": {
      "text/html": [
       "<div>\n",
       "<table border=\"1\" class=\"dataframe\">\n",
       "  <thead>\n",
       "    <tr style=\"text-align: right;\">\n",
       "      <th></th>\n",
       "      <th>name</th>\n",
       "      <th>city</th>\n",
       "      <th>open</th>\n",
       "      <th>review_count</th>\n",
       "      <th>stars</th>\n",
       "      <th>state</th>\n",
       "      <th>business_id</th>\n",
       "      <th>categories</th>\n",
       "      <th>latitude</th>\n",
       "      <th>longitude</th>\n",
       "    </tr>\n",
       "  </thead>\n",
       "  <tbody>\n",
       "    <tr>\n",
       "      <th>0</th>\n",
       "      <td>Mr Hoagie</td>\n",
       "      <td>Dravosburg</td>\n",
       "      <td>True</td>\n",
       "      <td>4</td>\n",
       "      <td>4.5</td>\n",
       "      <td>PA</td>\n",
       "      <td>5UmKMjUEUNdYWqANhGckJw</td>\n",
       "      <td>[Fast Food, Restaurants]</td>\n",
       "      <td>40.354327</td>\n",
       "      <td>-79.900706</td>\n",
       "    </tr>\n",
       "    <tr>\n",
       "      <th>1</th>\n",
       "      <td>Clancy's Pub</td>\n",
       "      <td>Dravosburg</td>\n",
       "      <td>True</td>\n",
       "      <td>4</td>\n",
       "      <td>3.5</td>\n",
       "      <td>PA</td>\n",
       "      <td>UsFtqoBl7naz8AVUBZMjQQ</td>\n",
       "      <td>[Nightlife]</td>\n",
       "      <td>40.350553</td>\n",
       "      <td>-79.886814</td>\n",
       "    </tr>\n",
       "    <tr>\n",
       "      <th>2</th>\n",
       "      <td>Joe Cislo's Auto</td>\n",
       "      <td>Dravosburg</td>\n",
       "      <td>True</td>\n",
       "      <td>3</td>\n",
       "      <td>5.0</td>\n",
       "      <td>PA</td>\n",
       "      <td>3eu6MEFlq2Dg7bQh8QbdOg</td>\n",
       "      <td>[Auto Repair, Automotive]</td>\n",
       "      <td>40.350956</td>\n",
       "      <td>-79.889059</td>\n",
       "    </tr>\n",
       "    <tr>\n",
       "      <th>3</th>\n",
       "      <td>Cool Springs Golf Center</td>\n",
       "      <td>Bethel Park</td>\n",
       "      <td>False</td>\n",
       "      <td>5</td>\n",
       "      <td>2.5</td>\n",
       "      <td>PA</td>\n",
       "      <td>cE27W9VPgO88Qxe4ol6y_g</td>\n",
       "      <td>[Active Life, Mini Golf, Golf]</td>\n",
       "      <td>40.354115</td>\n",
       "      <td>-80.014660</td>\n",
       "    </tr>\n",
       "    <tr>\n",
       "      <th>4</th>\n",
       "      <td>Verizon</td>\n",
       "      <td>Pittsburgh</td>\n",
       "      <td>True</td>\n",
       "      <td>5</td>\n",
       "      <td>2.5</td>\n",
       "      <td>PA</td>\n",
       "      <td>HZdLhv6COCleJMo7nPl-RA</td>\n",
       "      <td>[Shopping, Home Services, Internet Service Pro...</td>\n",
       "      <td>40.357620</td>\n",
       "      <td>-80.059980</td>\n",
       "    </tr>\n",
       "  </tbody>\n",
       "</table>\n",
       "</div>"
      ],
      "text/plain": [
       "                       name         city   open  review_count  stars state  \\\n",
       "0                 Mr Hoagie   Dravosburg   True             4    4.5    PA   \n",
       "1              Clancy's Pub   Dravosburg   True             4    3.5    PA   \n",
       "2          Joe Cislo's Auto   Dravosburg   True             3    5.0    PA   \n",
       "3  Cool Springs Golf Center  Bethel Park  False             5    2.5    PA   \n",
       "4                   Verizon   Pittsburgh   True             5    2.5    PA   \n",
       "\n",
       "              business_id                                         categories  \\\n",
       "0  5UmKMjUEUNdYWqANhGckJw                           [Fast Food, Restaurants]   \n",
       "1  UsFtqoBl7naz8AVUBZMjQQ                                        [Nightlife]   \n",
       "2  3eu6MEFlq2Dg7bQh8QbdOg                          [Auto Repair, Automotive]   \n",
       "3  cE27W9VPgO88Qxe4ol6y_g                     [Active Life, Mini Golf, Golf]   \n",
       "4  HZdLhv6COCleJMo7nPl-RA  [Shopping, Home Services, Internet Service Pro...   \n",
       "\n",
       "    latitude  longitude  \n",
       "0  40.354327 -79.900706  \n",
       "1  40.350553 -79.886814  \n",
       "2  40.350956 -79.889059  \n",
       "3  40.354115 -80.014660  \n",
       "4  40.357620 -80.059980  "
      ]
     },
     "execution_count": 174,
     "metadata": {},
     "output_type": "execute_result"
    }
   ],
   "source": [
    "business_df_short.head()"
   ]
  },
  {
   "cell_type": "code",
   "execution_count": 175,
   "metadata": {
    "collapsed": false
   },
   "outputs": [],
   "source": [
    "restaurant_bool = []\n",
    "for x in business_df_short.categories:\n",
    "    if \"Resturant\" in x or \"Restaurants\" in x:\n",
    "        restaurant_bool.append(True)\n",
    "    else:\n",
    "        restaurant_bool.append(False)"
   ]
  },
  {
   "cell_type": "code",
   "execution_count": 176,
   "metadata": {
    "collapsed": false
   },
   "outputs": [
    {
     "name": "stderr",
     "output_type": "stream",
     "text": [
      "C:\\Anaconda3\\lib\\site-packages\\ipykernel\\__main__.py:1: SettingWithCopyWarning: \n",
      "A value is trying to be set on a copy of a slice from a DataFrame.\n",
      "Try using .loc[row_indexer,col_indexer] = value instead\n",
      "\n",
      "See the caveats in the documentation: http://pandas.pydata.org/pandas-docs/stable/indexing.html#indexing-view-versus-copy\n",
      "  if __name__ == '__main__':\n"
     ]
    }
   ],
   "source": [
    "business_df_short['marker'] = pd.Series(restaurant_bool)"
   ]
  },
  {
   "cell_type": "code",
   "execution_count": 177,
   "metadata": {
    "collapsed": false
   },
   "outputs": [],
   "source": [
    "business_df_final = business_df_short[business_df_short.marker == True]"
   ]
  },
  {
   "cell_type": "code",
   "execution_count": 178,
   "metadata": {
    "collapsed": false
   },
   "outputs": [],
   "source": [
    "business_df_final = business_df_final.reset_index(drop=True)\n",
    "del business_df_final['categories']\n",
    "del business_df_final['marker']"
   ]
  },
  {
   "cell_type": "code",
   "execution_count": 179,
   "metadata": {
    "collapsed": false
   },
   "outputs": [
    {
     "name": "stdout",
     "output_type": "stream",
     "text": [
      "<class 'pandas.core.frame.DataFrame'>\n",
      "RangeIndex: 25071 entries, 0 to 25070\n",
      "Data columns (total 9 columns):\n",
      "name            25071 non-null object\n",
      "city            25071 non-null object\n",
      "open            25071 non-null bool\n",
      "review_count    25071 non-null int64\n",
      "stars           25071 non-null float64\n",
      "state           25071 non-null object\n",
      "business_id     25071 non-null object\n",
      "latitude        25071 non-null float64\n",
      "longitude       25071 non-null float64\n",
      "dtypes: bool(1), float64(3), int64(1), object(4)\n",
      "memory usage: 1.6+ MB\n"
     ]
    }
   ],
   "source": [
    "business_df_final.info()"
   ]
  },
  {
   "cell_type": "code",
   "execution_count": 180,
   "metadata": {
    "collapsed": true
   },
   "outputs": [],
   "source": [
    "import pickle\n",
    "with open('C:/Users/kenndanielso/Documents/Github/mcnulty_yelp/data/business_df.pkl', 'wb') as picklefile: \n",
    "    pickle.dump(business_df, picklefile)"
   ]
  },
  {
   "cell_type": "markdown",
   "metadata": {},
   "source": [
    "# Remove non-restaurant reviews in review data set"
   ]
  },
  {
   "cell_type": "code",
   "execution_count": 181,
   "metadata": {
    "collapsed": false
   },
   "outputs": [],
   "source": [
    "business_dict = dict.fromkeys(business_df_final.business_id)"
   ]
  },
  {
   "cell_type": "code",
   "execution_count": 182,
   "metadata": {
    "collapsed": false
   },
   "outputs": [
    {
     "data": {
      "text/html": [
       "<div>\n",
       "<table border=\"1\" class=\"dataframe\">\n",
       "  <thead>\n",
       "    <tr style=\"text-align: right;\">\n",
       "      <th></th>\n",
       "      <th>text</th>\n",
       "      <th>stars</th>\n",
       "      <th>date</th>\n",
       "      <th>business_id</th>\n",
       "      <th>user_id</th>\n",
       "      <th>review_id</th>\n",
       "    </tr>\n",
       "  </thead>\n",
       "  <tbody>\n",
       "    <tr>\n",
       "      <th>0</th>\n",
       "      <td>Mr Hoagie is an institution. Walking in, it do...</td>\n",
       "      <td>4</td>\n",
       "      <td>2012-08-01</td>\n",
       "      <td>5UmKMjUEUNdYWqANhGckJw</td>\n",
       "      <td>PUFPaY9KxDAcGqfsorJp3Q</td>\n",
       "      <td>Ya85v4eqdd6k9Od8HbQjyA</td>\n",
       "    </tr>\n",
       "    <tr>\n",
       "      <th>1</th>\n",
       "      <td>Excellent food. Superb customer service. I mis...</td>\n",
       "      <td>5</td>\n",
       "      <td>2014-02-13</td>\n",
       "      <td>5UmKMjUEUNdYWqANhGckJw</td>\n",
       "      <td>Iu6AxdBYGR4A0wspR9BYHA</td>\n",
       "      <td>KPvLNJ21_4wbYNctrOwWdQ</td>\n",
       "    </tr>\n",
       "    <tr>\n",
       "      <th>2</th>\n",
       "      <td>Yes this place is a little out dated and not o...</td>\n",
       "      <td>5</td>\n",
       "      <td>2015-10-31</td>\n",
       "      <td>5UmKMjUEUNdYWqANhGckJw</td>\n",
       "      <td>auESFwWvW42h6alXgFxAXQ</td>\n",
       "      <td>fFSoGV46Yxuwbr3fHNuZig</td>\n",
       "    </tr>\n",
       "    <tr>\n",
       "      <th>3</th>\n",
       "      <td>All the food is great here. But the best thing...</td>\n",
       "      <td>5</td>\n",
       "      <td>2013-11-08</td>\n",
       "      <td>UsFtqoBl7naz8AVUBZMjQQ</td>\n",
       "      <td>uK8tzraOp4M5u3uYrqIBXg</td>\n",
       "      <td>Di3exaUCFNw1V4kSNW5pgA</td>\n",
       "    </tr>\n",
       "    <tr>\n",
       "      <th>4</th>\n",
       "      <td>We checked this place out this past Monday for...</td>\n",
       "      <td>3</td>\n",
       "      <td>2014-03-29</td>\n",
       "      <td>UsFtqoBl7naz8AVUBZMjQQ</td>\n",
       "      <td>I_47G-R2_egp7ME5u_ltew</td>\n",
       "      <td>0Lua2-PbqEQMjD9r89-asw</td>\n",
       "    </tr>\n",
       "  </tbody>\n",
       "</table>\n",
       "</div>"
      ],
      "text/plain": [
       "                                                text  stars        date  \\\n",
       "0  Mr Hoagie is an institution. Walking in, it do...      4  2012-08-01   \n",
       "1  Excellent food. Superb customer service. I mis...      5  2014-02-13   \n",
       "2  Yes this place is a little out dated and not o...      5  2015-10-31   \n",
       "3  All the food is great here. But the best thing...      5  2013-11-08   \n",
       "4  We checked this place out this past Monday for...      3  2014-03-29   \n",
       "\n",
       "              business_id                 user_id               review_id  \n",
       "0  5UmKMjUEUNdYWqANhGckJw  PUFPaY9KxDAcGqfsorJp3Q  Ya85v4eqdd6k9Od8HbQjyA  \n",
       "1  5UmKMjUEUNdYWqANhGckJw  Iu6AxdBYGR4A0wspR9BYHA  KPvLNJ21_4wbYNctrOwWdQ  \n",
       "2  5UmKMjUEUNdYWqANhGckJw  auESFwWvW42h6alXgFxAXQ  fFSoGV46Yxuwbr3fHNuZig  \n",
       "3  UsFtqoBl7naz8AVUBZMjQQ  uK8tzraOp4M5u3uYrqIBXg  Di3exaUCFNw1V4kSNW5pgA  \n",
       "4  UsFtqoBl7naz8AVUBZMjQQ  I_47G-R2_egp7ME5u_ltew  0Lua2-PbqEQMjD9r89-asw  "
      ]
     },
     "execution_count": 182,
     "metadata": {},
     "output_type": "execute_result"
    }
   ],
   "source": [
    "review_df_short.head()"
   ]
  },
  {
   "cell_type": "code",
   "execution_count": 183,
   "metadata": {
    "collapsed": false
   },
   "outputs": [],
   "source": [
    "review_bool = []\n",
    "counter = 0\n",
    "for x in review_df_short.business_id:\n",
    "#     counter += 1\n",
    "#     if counter % 10000 == 0:\n",
    "#         print(counter)\n",
    "    if x in business_dict:\n",
    "        review_bool.append(True)\n",
    "    else:\n",
    "        review_bool.append(False)"
   ]
  },
  {
   "cell_type": "code",
   "execution_count": 184,
   "metadata": {
    "collapsed": false
   },
   "outputs": [
    {
     "name": "stderr",
     "output_type": "stream",
     "text": [
      "C:\\Anaconda3\\lib\\site-packages\\ipykernel\\__main__.py:1: SettingWithCopyWarning: \n",
      "A value is trying to be set on a copy of a slice from a DataFrame.\n",
      "Try using .loc[row_indexer,col_indexer] = value instead\n",
      "\n",
      "See the caveats in the documentation: http://pandas.pydata.org/pandas-docs/stable/indexing.html#indexing-view-versus-copy\n",
      "  if __name__ == '__main__':\n"
     ]
    }
   ],
   "source": [
    "review_df_short['marker'] = pd.Series(review_bool)"
   ]
  },
  {
   "cell_type": "code",
   "execution_count": 185,
   "metadata": {
    "collapsed": false
   },
   "outputs": [],
   "source": [
    "review_df_final = review_df_short[review_df_short['marker'] == True]\n",
    "del review_df_final['marker']"
   ]
  },
  {
   "cell_type": "code",
   "execution_count": 186,
   "metadata": {
    "collapsed": false
   },
   "outputs": [
    {
     "name": "stdout",
     "output_type": "stream",
     "text": [
      "<class 'pandas.core.frame.DataFrame'>\n",
      "Int64Index: 1363242 entries, 0 to 2225172\n",
      "Data columns (total 6 columns):\n",
      "text           1363242 non-null object\n",
      "stars          1363242 non-null int64\n",
      "date           1363242 non-null object\n",
      "business_id    1363242 non-null object\n",
      "user_id        1363242 non-null object\n",
      "review_id      1363242 non-null object\n",
      "dtypes: int64(1), object(5)\n",
      "memory usage: 72.8+ MB\n"
     ]
    }
   ],
   "source": [
    "review_df_final.info()"
   ]
  },
  {
   "cell_type": "code",
   "execution_count": 187,
   "metadata": {
    "collapsed": true
   },
   "outputs": [],
   "source": [
    "import pickle\n",
    "with open('C:/Users/kenndanielso/Documents/Github/mcnulty_yelp/data/review_df.pkl', 'wb') as picklefile: \n",
    "    pickle.dump(review_df, picklefile)"
   ]
  },
  {
   "cell_type": "markdown",
   "metadata": {},
   "source": [
    "# Merge business data and review data set"
   ]
  },
  {
   "cell_type": "code",
   "execution_count": 188,
   "metadata": {
    "collapsed": false
   },
   "outputs": [],
   "source": [
    "review_business_df = pd.merge(review_df,business_df,on=\"business_id\")"
   ]
  },
  {
   "cell_type": "code",
   "execution_count": 189,
   "metadata": {
    "collapsed": false
   },
   "outputs": [
    {
     "name": "stdout",
     "output_type": "stream",
     "text": [
      "<class 'pandas.core.frame.DataFrame'>\n",
      "Int64Index: 2225213 entries, 0 to 2225212\n",
      "Data columns (total 22 columns):\n",
      "business_id      object\n",
      "date             object\n",
      "review_id        object\n",
      "stars_x          int64\n",
      "text             object\n",
      "type_x           object\n",
      "user_id          object\n",
      "votes            object\n",
      "attributes       object\n",
      "categories       object\n",
      "city             object\n",
      "full_address     object\n",
      "hours            object\n",
      "latitude         float64\n",
      "longitude        float64\n",
      "name             object\n",
      "neighborhoods    object\n",
      "open             bool\n",
      "review_count     int64\n",
      "stars_y          float64\n",
      "state            object\n",
      "type_y           object\n",
      "dtypes: bool(1), float64(3), int64(2), object(16)\n",
      "memory usage: 375.6+ MB\n"
     ]
    }
   ],
   "source": [
    "review_business_df.info()"
   ]
  },
  {
   "cell_type": "code",
   "execution_count": 190,
   "metadata": {
    "collapsed": false
   },
   "outputs": [],
   "source": [
    "import pickle\n",
    "with open('C:/Users/kenndanielso/Documents/Github/mcnulty_yelp/data/review_business_df.pkl', 'wb') as picklefile: \n",
    "    pickle.dump(review_business_df, picklefile)"
   ]
  }
 ],
 "metadata": {
  "kernelspec": {
   "display_name": "Python 3",
   "language": "python",
   "name": "python3"
  },
  "language_info": {
   "codemirror_mode": {
    "name": "ipython",
    "version": 3
   },
   "file_extension": ".py",
   "mimetype": "text/x-python",
   "name": "python",
   "nbconvert_exporter": "python",
   "pygments_lexer": "ipython3",
   "version": "3.5.1"
  }
 },
 "nbformat": 4,
 "nbformat_minor": 0
}
