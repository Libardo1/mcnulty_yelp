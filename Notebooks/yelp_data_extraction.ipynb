{
 "cells": [
  {
   "cell_type": "code",
   "execution_count": 75,
   "metadata": {
    "collapsed": true
   },
   "outputs": [],
   "source": [
    "import pandas as pd\n",
    "import numpy as np\n",
    "import json\n",
    "import os\n",
    "import flatdict"
   ]
  },
  {
   "cell_type": "markdown",
   "metadata": {},
   "source": [
    "# Extract Business Data Set"
   ]
  },
  {
   "cell_type": "code",
   "execution_count": 76,
   "metadata": {
    "collapsed": false
   },
   "outputs": [],
   "source": [
    "businesses = []\n",
    "with open('C:/Users/kennd/Downloads/yelp_dataset_challenge_academic_dataset/yelp_academic_dataset_business.json') as f:\n",
    "    for business in f:\n",
    "        businesses.append(json.loads(business))\n",
    "        \n",
    "businesses2 = businesses\n",
    "\n",
    "business_df = pd.DataFrame(businesses2)"
   ]
  },
  {
   "cell_type": "code",
   "execution_count": 82,
   "metadata": {
    "collapsed": false
   },
   "outputs": [
    {
     "name": "stdout",
     "output_type": "stream",
     "text": [
      "<class 'pandas.core.frame.DataFrame'>\n",
      "RangeIndex: 77445 entries, 0 to 77444\n",
      "Data columns (total 15 columns):\n",
      "attributes       77445 non-null object\n",
      "business_id      77445 non-null object\n",
      "categories       77445 non-null object\n",
      "city             77445 non-null object\n",
      "full_address     77445 non-null object\n",
      "hours            77445 non-null object\n",
      "latitude         77445 non-null float64\n",
      "longitude        77445 non-null float64\n",
      "name             77445 non-null object\n",
      "neighborhoods    77445 non-null object\n",
      "open             77445 non-null bool\n",
      "review_count     77445 non-null int64\n",
      "stars            77445 non-null float64\n",
      "state            77445 non-null object\n",
      "type             77445 non-null object\n",
      "dtypes: bool(1), float64(3), int64(1), object(10)\n",
      "memory usage: 8.3+ MB\n"
     ]
    }
   ],
   "source": [
    "business_df.info()"
   ]
  },
  {
   "cell_type": "code",
   "execution_count": 78,
   "metadata": {
    "collapsed": false
   },
   "outputs": [
    {
     "data": {
      "text/plain": [
       "Las Vegas                         17423\n",
       "Phoenix                           10629\n",
       "Charlotte                          5189\n",
       "Scottsdale                         5139\n",
       "Montréal                           3891\n",
       "Pittsburgh                         3337\n",
       "Edinburgh                          3272\n",
       "Mesa                               3190\n",
       "Henderson                          2839\n",
       "Tempe                              2773\n",
       "Chandler                           2425\n",
       "Madison                            2104\n",
       "Glendale                           1823\n",
       "Gilbert                            1716\n",
       "Peoria                              929\n",
       "Karlsruhe                           898\n",
       "North Las Vegas                     819\n",
       "Surprise                            587\n",
       "Champaign                           462\n",
       "Goodyear                            459\n",
       "Avondale                            386\n",
       "Queen Creek                         348\n",
       "Matthews                            346\n",
       "Waterloo                            262\n",
       "Urbana                              262\n",
       "Fort Mill                           238\n",
       "Cave Creek                          229\n",
       "Middleton                           208\n",
       "Laval                               196\n",
       "Kitchener                           188\n",
       "                                  ...  \n",
       "Ft. Mill                              1\n",
       "Pittsburg                             1\n",
       "St Leonard                            1\n",
       "Chandler-Gilbert                      1\n",
       "Sunnyslope                            1\n",
       "Chateau                               1\n",
       "Sedona                                1\n",
       "Mesa AZ                               1\n",
       "Columbus                              1\n",
       "Mt. Oliver Boro                       1\n",
       "W Henderson                           1\n",
       "Glibert                               1\n",
       "NELLIS AFB                            1\n",
       "South Hills                           1\n",
       "Communauté-Urbaine-de-Montréal        1\n",
       "MMRP                                  1\n",
       "Whitehall                             1\n",
       "Montréal-Ouest                        1\n",
       "North Scottsdale                      1\n",
       "Central City                          1\n",
       "Ratho                                 1\n",
       "Golden Square Mile                    1\n",
       "Le Vieux-Port                         1\n",
       "Goldfield                             1\n",
       "Deux-Montagnes                        1\n",
       "Balerno                               1\n",
       "Robinson Township                     1\n",
       "Scotesdale                            1\n",
       "Mount Royal                           1\n",
       "henderson                             1\n",
       "Name: city, dtype: int64"
      ]
     },
     "execution_count": 78,
     "metadata": {},
     "output_type": "execute_result"
    }
   ],
   "source": [
    "business_df.city.value_counts()"
   ]
  },
  {
   "cell_type": "code",
   "execution_count": 79,
   "metadata": {
    "collapsed": false
   },
   "outputs": [],
   "source": [
    "import pickle\n",
    "with open('business_df.pkl', 'wb') as picklefile: \n",
    "    pickle.dump(business_df, picklefile)"
   ]
  },
  {
   "cell_type": "markdown",
   "metadata": {},
   "source": [
    "# Extract Review Dataset"
   ]
  },
  {
   "cell_type": "code",
   "execution_count": 81,
   "metadata": {
    "collapsed": false
   },
   "outputs": [],
   "source": [
    "reviews = []\n",
    "with open('C:/Users/kennd/Downloads/yelp_dataset_challenge_academic_dataset/yelp_academic_dataset_review.json') as f:\n",
    "    for review in f:\n",
    "        reviews.append(json.loads(review))\n",
    "    \n",
    "reviews2 = reviews\n",
    "\n",
    "review_df = pd.DataFrame(reviews2)"
   ]
  },
  {
   "cell_type": "code",
   "execution_count": 84,
   "metadata": {
    "collapsed": false,
    "scrolled": true
   },
   "outputs": [
    {
     "name": "stdout",
     "output_type": "stream",
     "text": [
      "<class 'pandas.core.frame.DataFrame'>\n",
      "RangeIndex: 2225213 entries, 0 to 2225212\n",
      "Data columns (total 8 columns):\n",
      "business_id    object\n",
      "date           object\n",
      "review_id      object\n",
      "stars          int64\n",
      "text           object\n",
      "type           object\n",
      "user_id        object\n",
      "votes          object\n",
      "dtypes: int64(1), object(7)\n",
      "memory usage: 135.8+ MB\n"
     ]
    }
   ],
   "source": [
    "review_df.info()"
   ]
  },
  {
   "cell_type": "code",
   "execution_count": 85,
   "metadata": {
    "collapsed": true
   },
   "outputs": [],
   "source": [
    "import pickle\n",
    "with open('review_df.pkl', 'wb') as picklefile: \n",
    "    pickle.dump(review_df, picklefile)"
   ]
  },
  {
   "cell_type": "code",
   "execution_count": 86,
   "metadata": {
    "collapsed": true
   },
   "outputs": [],
   "source": [
    "with open(\"review_df.pkl\", 'rb') as picklefile: \n",
    "    review_df = pickle.load(picklefile)"
   ]
  },
  {
   "cell_type": "markdown",
   "metadata": {},
   "source": [
    "# Select only relevant business data (TBU)"
   ]
  },
  {
   "cell_type": "code",
   "execution_count": null,
   "metadata": {
    "collapsed": true
   },
   "outputs": [],
   "source": [
    "with open(\"business_df.pkl\", 'rb') as picklefile: \n",
    "    business_df = pickle.load(picklefile)"
   ]
  },
  {
   "cell_type": "code",
   "execution_count": null,
   "metadata": {
    "collapsed": true
   },
   "outputs": [],
   "source": [
    "business_df.info()"
   ]
  },
  {
   "cell_type": "code",
   "execution_count": null,
   "metadata": {
    "collapsed": true
   },
   "outputs": [],
   "source": []
  }
 ],
 "metadata": {
  "kernelspec": {
   "display_name": "Python 3",
   "language": "python",
   "name": "python3"
  },
  "language_info": {
   "codemirror_mode": {
    "name": "ipython",
    "version": 3
   },
   "file_extension": ".py",
   "mimetype": "text/x-python",
   "name": "python",
   "nbconvert_exporter": "python",
   "pygments_lexer": "ipython3",
   "version": "3.5.1"
  }
 },
 "nbformat": 4,
 "nbformat_minor": 0
}
