{
 "cells": [
  {
   "cell_type": "markdown",
   "metadata": {},
   "source": [
    "# Appendix: Import needed modules "
   ]
  },
  {
   "cell_type": "code",
   "execution_count": 1,
   "metadata": {
    "collapsed": false
   },
   "outputs": [],
   "source": [
    "import re, collections\n",
    "from textblob import TextBlob\n",
    "from sklearn.feature_extraction.text import CountVectorizer\n",
    "from sklearn.base import TransformerMixin\n",
    "from sklearn.pipeline import Pipeline\n",
    "from sklearn.svm import LinearSVC\n",
    "from sklearn.feature_extraction.stop_words import ENGLISH_STOP_WORDS\n",
    "from sklearn.metrics import accuracy_score\n",
    "from nltk.corpus import stopwords\n",
    "from spacy.en import English ##Note you'll need to install Spacy and download its dependencies\n",
    "parser = English()\n",
    "import string"
   ]
  },
  {
   "cell_type": "code",
   "execution_count": 2,
   "metadata": {
    "collapsed": true
   },
   "outputs": [],
   "source": [
    "# A custom stoplist\n",
    "STOPLIST = set(stopwords.words('english') + [\"n't\", \"'s\", \"'m\", \"ca\"] + list(ENGLISH_STOP_WORDS))\n",
    "# List of symbols we don't care about\n",
    "SYMBOLS = \" \".join(string.punctuation).split(\" \") + [\"-----\", \"---\", \"...\", \"“\", \"”\", \"'ve\"]"
   ]
  },
  {
   "cell_type": "code",
   "execution_count": 3,
   "metadata": {
    "collapsed": false
   },
   "outputs": [],
   "source": [
    "import re, collections\n",
    "\n",
    "def words(text): return re.findall('[a-z]+', text.lower()) \n",
    "\n",
    "def train(features):\n",
    "    model = collections.defaultdict(lambda: 1)\n",
    "    for f in features:\n",
    "        model[f] += 1\n",
    "    return model\n",
    "\n",
    "NWORDS = train(words(open('C:/Users/kenndanielso/Documents/Github/mcnulty_yelp/data/bigtext.txt').read()))\n",
    "\n",
    "alphabet = 'abcdefghijklmnopqrstuvwxyz'\n",
    "\n",
    "def edits1(word):\n",
    "   splits     = [(word[:i], word[i:]) for i in range(len(word) + 1)]\n",
    "   deletes    = [a + b[1:] for a, b in splits if b]\n",
    "   transposes = [a + b[1] + b[0] + b[2:] for a, b in splits if len(b)>1]\n",
    "   replaces   = [a + c + b[1:] for a, b in splits for c in alphabet if b]\n",
    "   inserts    = [a + c + b     for a, b in splits for c in alphabet]\n",
    "   return set(deletes + transposes + replaces + inserts)\n",
    "\n",
    "def known_edits2(word):\n",
    "    return set(e2 for e1 in edits1(word) for e2 in edits1(e1) if e2 in NWORDS)\n",
    "\n",
    "def known(words): return set(w for w in words if w in NWORDS)\n",
    "\n",
    "def correct(word):\n",
    "    candidates = known([word]) or known(edits1(word)) or known_edits2(word) or [word]\n",
    "    return max(candidates, key=NWORDS.get)"
   ]
  },
  {
   "cell_type": "code",
   "execution_count": 20,
   "metadata": {
    "collapsed": false
   },
   "outputs": [],
   "source": [
    "# A custom function to clean the text before sending it into the vectorizer\n",
    "def cleanText(text):\n",
    "    # get rid of newlines\n",
    "    text = text.strip().replace(\"\\n\", \" \").replace(\"\\r\", \" \")\n",
    "    \n",
    "    # replace twitter @mentions\n",
    "#     mentionFinder = re.compile(r\"@[a-z0-9_]{1,15}\", re.IGNORECASE)\n",
    "#     text = mentionFinder.sub(\"@MENTION\", text)\n",
    "    text = re.sub('[^a-zA-Z0-9 ]','',text)\n",
    "    # replace HTML symbols\n",
    "    text = text.replace(\"&amp;\", \"and\").replace(\"&gt;\", \">\").replace(\"&lt;\", \"<\")\n",
    "    \n",
    "    # lowercase\n",
    "    text = text.lower()\n",
    "#     text = correct(text)\n",
    "\n",
    "    return text\n",
    "\n",
    "# A custom function to tokenize the text using spaCy\n",
    "# and convert to lemmas\n",
    "def tokenizeText(sample):\n",
    "\n",
    "    # get the tokens using spaCy\n",
    "    tokens = parser(str(TextBlob(sample).correct()))\n",
    "\n",
    "    # lemmatize\n",
    "    lemmas = []\n",
    "    for tok in tokens:\n",
    "        lemmas.append(tok.lemma_.lower().strip() if tok.lemma_ != \"-PRON-\" else tok.lower_)\n",
    "    tokens = lemmas\n",
    "\n",
    "    # stoplist the tokens\n",
    "    tokens = [tok for tok in tokens if tok not in STOPLIST]\n",
    "\n",
    "    # stoplist symbols\n",
    "    tokens = [tok for tok in tokens if tok not in SYMBOLS]\n",
    "\n",
    "    # remove large strings of whitespace\n",
    "    while \"\" in tokens:\n",
    "        tokens.remove(\"\")\n",
    "    while \" \" in tokens:\n",
    "        tokens.remove(\" \")\n",
    "    while \"\\n\" in tokens:\n",
    "        tokens.remove(\"\\n\")\n",
    "    while \"\\n\\n\" in tokens:\n",
    "        tokens.remove(\"\\n\\n\")\n",
    "\n",
    "    return tokens"
   ]
  },
  {
   "cell_type": "code",
   "execution_count": 5,
   "metadata": {
    "collapsed": false
   },
   "outputs": [],
   "source": [
    "import numpy as np\n",
    "import nltk\n",
    "from nltk.stem import WordNetLemmatizer\n",
    "import matplotlib\n",
    "import matplotlib.pyplot as plt\n",
    "import seaborn as sns\n",
    "%matplotlib inline\n",
    "\n",
    "from nltk.corpus import stopwords\n",
    "\n",
    "stops = set(stopwords.words('english'))\n",
    "\n",
    "import pandas as pd\n",
    "df = pd.read_csv('C:/Users/kenndanielso/Documents/Github/mcnulty_yelp/data/sentence_raw.csv',encoding = \"ISO-8859-1\")"
   ]
  },
  {
   "cell_type": "markdown",
   "metadata": {},
   "source": [
    "# Download data and munge munge"
   ]
  },
  {
   "cell_type": "code",
   "execution_count": 21,
   "metadata": {
    "collapsed": false
   },
   "outputs": [],
   "source": [
    "df2 = df[['sentence','category']]"
   ]
  },
  {
   "cell_type": "code",
   "execution_count": 22,
   "metadata": {
    "collapsed": false
   },
   "outputs": [
    {
     "name": "stderr",
     "output_type": "stream",
     "text": [
      "C:\\Anaconda3\\lib\\site-packages\\ipykernel\\__main__.py:2: SettingWithCopyWarning: \n",
      "A value is trying to be set on a copy of a slice from a DataFrame.\n",
      "Try using .loc[row_indexer,col_indexer] = value instead\n",
      "\n",
      "See the caveats in the documentation: http://pandas.pydata.org/pandas-docs/stable/indexing.html#indexing-view-versus-copy\n",
      "  from ipykernel import kernelapp as app\n",
      "C:\\Anaconda3\\lib\\site-packages\\pandas\\core\\frame.py:2363: SettingWithCopyWarning: \n",
      "A value is trying to be set on a copy of a slice from a DataFrame\n",
      "\n",
      "See the caveats in the documentation: http://pandas.pydata.org/pandas-docs/stable/indexing.html#indexing-view-versus-copy\n",
      "  self.ix._setitem_with_indexer(indexer, value)\n",
      "C:\\Anaconda3\\lib\\site-packages\\pandas\\core\\frame.py:2343: SettingWithCopyWarning: \n",
      "A value is trying to be set on a copy of a slice from a DataFrame\n",
      "\n",
      "See the caveats in the documentation: http://pandas.pydata.org/pandas-docs/stable/indexing.html#indexing-view-versus-copy\n",
      "  self._setitem_array(key, value)\n",
      "C:\\Anaconda3\\lib\\site-packages\\ipykernel\\__main__.py:3: SettingWithCopyWarning: \n",
      "A value is trying to be set on a copy of a slice from a DataFrame.\n",
      "Try using .loc[row_indexer,col_indexer] = value instead\n",
      "\n",
      "See the caveats in the documentation: http://pandas.pydata.org/pandas-docs/stable/indexing.html#indexing-view-versus-copy\n",
      "  app.launch_new_instance()\n"
     ]
    }
   ],
   "source": [
    "##Collapse some\n",
    "df2[df2['category']==\"wait\"] = \"service\" \n",
    "df2[df2['category']==\"value\"] = \"overall\"\n"
   ]
  },
  {
   "cell_type": "code",
   "execution_count": 23,
   "metadata": {
    "collapsed": false
   },
   "outputs": [
    {
     "data": {
      "text/plain": [
       "food        0.414732\n",
       "overall     0.263298\n",
       "others      0.138862\n",
       "service     0.123872\n",
       "ambiance    0.059236\n",
       "Name: category, dtype: float64"
      ]
     },
     "execution_count": 23,
     "metadata": {},
     "output_type": "execute_result"
    }
   ],
   "source": [
    "df2.category.value_counts()/df2.shape[0]"
   ]
  },
  {
   "cell_type": "code",
   "execution_count": 24,
   "metadata": {
    "collapsed": false
   },
   "outputs": [
    {
     "name": "stderr",
     "output_type": "stream",
     "text": [
      "C:\\Anaconda3\\lib\\site-packages\\pandas\\core\\generic.py:2698: SettingWithCopyWarning: \n",
      "A value is trying to be set on a copy of a slice from a DataFrame.\n",
      "Try using .loc[row_indexer,col_indexer] = value instead\n",
      "\n",
      "See the caveats in the documentation: http://pandas.pydata.org/pandas-docs/stable/indexing.html#indexing-view-versus-copy\n",
      "  self[name] = value\n"
     ]
    }
   ],
   "source": [
    "df2.sentence = df2.sentence.apply(cleanText)"
   ]
  },
  {
   "cell_type": "markdown",
   "metadata": {},
   "source": [
    "# Feature Generation"
   ]
  },
  {
   "cell_type": "code",
   "execution_count": 26,
   "metadata": {
    "collapsed": false
   },
   "outputs": [],
   "source": [
    "from sklearn.feature_extraction.text import CountVectorizer\n",
    "from sklearn.feature_extraction.text import TfidfVectorizer\n",
    "\n",
    "vectorizer = CountVectorizer(ngram_range=(1,3),min_df=3, max_features=1000,tokenizer=tokenizeText)\n",
    "tfvectorizer = TfidfVectorizer(ngram_range=(1,3),min_df = 3,max_features=1000,tokenizer=tokenizeText,sublinear_tf=True)"
   ]
  },
  {
   "cell_type": "code",
   "execution_count": null,
   "metadata": {
    "collapsed": false
   },
   "outputs": [],
   "source": [
    "## Gets the count of each word in each sentence (Count Vectorizer)\n",
    "from sklearn.decomposition import TruncatedSVD\n",
    "import pickle\n",
    "countfeature = vectorizer.fit_transform(df2.sentence)\n",
    "# lsa_count = TruncatedSVD(n_components=50,n_iter=100).fit_transform(countfeature)\n",
    "# lsa_count_df = pd.DataFrame(lsa_count)\n",
    "featuredf_count = pd.DataFrame(countfeature.A, columns=vectorizer.get_feature_names())\n",
    "df3_count = pd.concat((df2,featuredf_count),axis=1)\n",
    "# df3_lsa_count = pd.concat((df2,lsa_count_df),axis=1)\n",
    "print(df3_count.info())\n",
    "# print(df3_lsa_count.info())\n",
    "df3_count.to_pickle(\"df3_count.pkl\")\n",
    "# df3_lsa_count.to_pickle(\"df3_lsa_count.pkl\")"
   ]
  },
  {
   "cell_type": "code",
   "execution_count": null,
   "metadata": {
    "collapsed": false
   },
   "outputs": [],
   "source": [
    "##TFIDF Vectorizer (slow)\n",
    "tffeature = tfvectorizer.fit_transform(df2.sentence)\n",
    "featuredf_tf = pd.DataFrame(tffeature.A, columns=tfvectorizer.get_feature_names())\n",
    "# lsa_tf = TruncatedSVD(n_components=50,n_iter=100).fit_transform(tffeature)\n",
    "# lsa_tf_df = pd.DataFrame(lsa_tf)\n",
    "df3_tf = pd.concat((df2,featuredf_tf),axis=1)\n",
    "# df3_lsa_tf = pd.concat((df2,lsa_tf_df),axis=1)\n",
    "print(df3_tf.info())\n",
    "# print(df3_lsa_tf.info())\n",
    "df3_tf.to_pickle(\"df3_tf.pkl\")\n",
    "# df3_lsa_tf.to_pickle(\"df3_lsa_tf.pkl\")"
   ]
  },
  {
   "cell_type": "markdown",
   "metadata": {},
   "source": [
    "# Building the model and in-training-set accuracy"
   ]
  },
  {
   "cell_type": "code",
   "execution_count": null,
   "metadata": {
    "collapsed": true
   },
   "outputs": [],
   "source": [
    "from sklearn.cross_validation import train_test_split "
   ]
  },
  {
   "cell_type": "code",
   "execution_count": 59,
   "metadata": {
    "collapsed": true
   },
   "outputs": [
    {
     "ename": "TypeError",
     "evalue": "Expected sequence or array-like, got estimator                                                 sentence  category  able  \\\n0                                      thanks  nice spot  ambiance     0   \n1      this is a new pho place and the only phos rest...  ambiance     0   \n2               ambiance was bright chic and comfortable  ambiance     0   \n3           i remember liking this place in my past life  ambiance     0   \n4                              the lighting is very dark  ambiance     0   \n5                                very chill and inviting  ambiance     0   \n6      and the place is quiet during lunchtime during...  ambiance     0   \n7      there is a bar and grill a arcade a  story laz...  ambiance     0   \n8                                  casual fun atmosphere  ambiance     0   \n9      its a small restaurant with additional outdoor...  ambiance     0   \n10     its a good atmosphere for sure but the sushi c...  ambiance     0   \n11     this place was amazzzzing the ambiance was gre...  ambiance     0   \n12     the air was permeated with beefgrease and i im...  ambiance     0   \n13     some places get that nostalgic feel and they e...  ambiance     0   \n14     it really is a great place to chill out and relax  ambiance     0   \n15     ambienceupon entering i felt as if i left las ...  ambiance     0   \n16     the decor was classic hard rock cafe and so wa...  ambiance     0   \n17     revolution ale house has all the makings of a ...  ambiance     0   \n18     overall a cool place where it doesnt matter wh...  ambiance     0   \n19     does it match whats happening in other places ...  ambiance     0   \n20     located in old montreal this divy joint sits o...  ambiance     0   \n21     its refreshingly different from the minimal ut...  ambiance     0   \n22     the location is beautiful inside the jw marrio...  ambiance     0   \n23                       but its a very clean fresh feel  ambiance     0   \n24     probably one of the most highclass refined res...  ambiance     0   \n25               i do have to comment on the cleanliness  ambiance     0   \n26     check the china town surroundings very nice sp...  ambiance     0   \n27     undeterred we came in to familiar surroundings...  ambiance     0   \n28                its classy without being uncomfortable  ambiance     0   \n29     really beautiful inside so friendly and inviti...  ambiance     0   \n...                                                  ...       ...   ...   \n18695  i managed to find a seat and about  minutes la...      wait     0   \n18696  after  minutes i finally got the attention of ...      wait     0   \n18697  we waited  minutes  she had not been to our ta...      wait     0   \n18698  then we waited  mins to get the server to brin...      wait     0   \n18699                                            waiting      wait     0   \n18700                   its very busy as i would call it      wait     0   \n18701  i arrived about  only to see a sign saying sor...      wait     0   \n18702  we also waited at least seven minutes without ...      wait     0   \n18703  if  or  people are standing around outside the...      wait     0   \n18704  where do i start reservations were confirmed  ...      wait     0   \n18705  less than  minutes later they informed her tha...      wait     0   \n18706                      you are going to have to wait      wait     0   \n18707  it was in the middle of a downpour so our wait...      wait     0   \n18708                    can  be really crowded at times      wait     0   \n18709  a table of four came in after us and they were...      wait     0   \n18710          and non of our food came at the same time      wait     0   \n18711  the first time i was one of only a few custome...      wait     0   \n18712  we ordered  different dumplings mine arrived i...      wait     0   \n18713                                  we arrived about       wait     0   \n18714  now an hour and a half later im starving and e...      wait     0   \n18715                                     long long wait      wait     0   \n18716  this location is always very busy usually  min...      wait     0   \n18717  we were here early so we were able to snag a seat      wait     1   \n18718           we were a table of  and had reservations      wait     0   \n18719                              not super busy either      wait     0   \n18720                                          hrs later      wait     0   \n18721  we are very lowkey customers by nature  no sub...      wait     0   \n18722  the told us that they would find a seat and so...      wait     0   \n18723                     the only downside was the wait      wait     0   \n18724  i made a reservation beforehand so i wouldnt h...      wait     0   \n\n       absence  absolute  absolute favorite  absolutely  absolutely amazing  \\\n0            0         0                  0           0                   0   \n1            0         0                  0           0                   0   \n2            0         0                  0           0                   0   \n3            0         0                  0           0                   0   \n4            0         0                  0           0                   0   \n5            0         0                  0           0                   0   \n6            0         0                  0           0                   0   \n7            0         0                  0           0                   0   \n8            0         0                  0           0                   0   \n9            0         0                  0           0                   0   \n10           0         0                  0           0                   0   \n11           0         0                  0           0                   0   \n12           0         0                  0           0                   0   \n13           0         0                  0           0                   0   \n14           0         0                  0           0                   0   \n15           0         0                  0           0                   0   \n16           0         0                  0           0                   0   \n17           0         0                  0           0                   0   \n18           0         0                  0           0                   0   \n19           0         0                  0           0                   0   \n20           0         0                  0           0                   0   \n21           0         0                  0           0                   0   \n22           0         0                  0           0                   0   \n23           0         0                  0           0                   0   \n24           0         0                  0           0                   0   \n25           0         0                  0           0                   0   \n26           0         0                  0           0                   0   \n27           0         0                  0           0                   0   \n28           0         0                  0           0                   0   \n29           0         0                  0           0                   0   \n...        ...       ...                ...         ...                 ...   \n18695        0         0                  0           0                   0   \n18696        0         0                  0           0                   0   \n18697        0         0                  0           0                   0   \n18698        0         0                  0           0                   0   \n18699        0         0                  0           0                   0   \n18700        0         0                  0           0                   0   \n18701        0         0                  0           0                   0   \n18702        0         0                  0           0                   0   \n18703        0         0                  0           0                   0   \n18704        0         0                  0           0                   0   \n18705        0         0                  0           0                   0   \n18706        0         0                  0           0                   0   \n18707        0         0                  0           0                   0   \n18708        0         0                  0           0                   0   \n18709        0         0                  0           0                   0   \n18710        0         0                  0           0                   0   \n18711        0         0                  0           0                   0   \n18712        0         0                  0           0                   0   \n18713        0         0                  0           0                   0   \n18714        0         0                  0           0                   0   \n18715        0         0                  0           0                   0   \n18716        0         0                  0           0                   0   \n18717        0         0                  0           0                   0   \n18718        0         0                  0           0                   0   \n18719        0         0                  0           0                   0   \n18720        0         0                  0           0                   0   \n18721        0         0                  0           0                   0   \n18722        0         0                  0           0                   0   \n18723        0         0                  0           0                   0   \n18724        0         0                  0           0                   0   \n\n       absolutely delicious  absolutely love    ...     yes  yesterday  york  \\\n0                         0                0    ...       0          0     0   \n1                         0                0    ...       0          0     0   \n2                         0                0    ...       0          0     0   \n3                         0                0    ...       0          0     0   \n4                         0                0    ...       0          0     0   \n5                         0                0    ...       0          0     0   \n6                         0                0    ...       0          0     0   \n7                         0                0    ...       0          0     0   \n8                         0                0    ...       0          0     0   \n9                         0                0    ...       0          0     0   \n10                        0                0    ...       0          0     0   \n11                        0                0    ...       0          0     0   \n12                        0                0    ...       0          0     0   \n13                        0                0    ...       0          0     0   \n14                        0                0    ...       0          0     0   \n15                        0                0    ...       0          0     0   \n16                        0                0    ...       0          0     0   \n17                        0                0    ...       0          0     0   \n18                        0                0    ...       0          0     0   \n19                        0                0    ...       0          0     0   \n20                        0                0    ...       0          0     0   \n21                        0                0    ...       0          0     0   \n22                        0                0    ...       0          0     0   \n23                        0                0    ...       0          0     0   \n24                        0                0    ...       0          0     0   \n25                        0                0    ...       0          0     0   \n26                        0                0    ...       0          0     0   \n27                        0                0    ...       0          0     0   \n28                        0                0    ...       0          0     0   \n29                        0                0    ...       0          0     0   \n...                     ...              ...    ...     ...        ...   ...   \n18695                     0                0    ...       0          0     0   \n18696                     0                0    ...       0          0     0   \n18697                     0                0    ...       0          0     0   \n18698                     0                0    ...       0          0     0   \n18699                     0                0    ...       0          0     0   \n18700                     0                0    ...       0          0     0   \n18701                     0                0    ...       0          0     0   \n18702                     0                0    ...       0          0     0   \n18703                     0                0    ...       0          0     0   \n18704                     0                0    ...       0          0     0   \n18705                     0                0    ...       0          0     0   \n18706                     0                0    ...       0          0     0   \n18707                     0                0    ...       0          0     0   \n18708                     0                0    ...       0          0     0   \n18709                     0                0    ...       0          0     0   \n18710                     0                0    ...       0          0     0   \n18711                     0                0    ...       0          0     0   \n18712                     0                0    ...       0          0     0   \n18713                     0                0    ...       0          0     0   \n18714                     0                0    ...       0          0     0   \n18715                     0                0    ...       0          0     0   \n18716                     0                0    ...       0          0     0   \n18717                     0                0    ...       0          0     0   \n18718                     0                0    ...       0          0     0   \n18719                     0                0    ...       0          0     0   \n18720                     0                0    ...       0          0     0   \n18721                     0                0    ...       0          0     0   \n18722                     0                0    ...       0          0     0   \n18723                     0                0    ...       0          0     0   \n18724                     0                0    ...       0          0     0   \n\n       young  young lady  yummmmm  zero  zest  zu  zucchini  \n0          0           0        0     0     0   0         0  \n1          0           0        0     0     0   0         0  \n2          0           0        0     0     0   0         0  \n3          0           0        0     0     0   0         0  \n4          0           0        0     0     0   0         0  \n5          0           0        0     0     0   0         0  \n6          0           0        0     0     0   0         0  \n7          0           0        0     0     0   0         0  \n8          0           0        0     0     0   0         0  \n9          0           0        0     0     0   0         0  \n10         0           0        0     0     0   0         0  \n11         0           0        0     0     0   0         0  \n12         0           0        0     0     0   0         0  \n13         0           0        0     0     0   0         0  \n14         0           0        0     0     0   0         0  \n15         0           0        0     0     0   0         0  \n16         0           0        0     0     0   0         0  \n17         0           0        0     0     0   0         0  \n18         0           0        0     0     0   0         0  \n19         0           0        0     0     0   0         0  \n20         0           0        0     0     0   0         0  \n21         0           0        0     0     0   0         0  \n22         0           0        0     0     0   0         0  \n23         0           0        0     0     0   0         0  \n24         0           0        0     0     0   0         0  \n25         0           0        0     0     0   0         0  \n26         0           0        0     0     0   0         0  \n27         0           0        0     0     0   0         0  \n28         0           0        0     0     0   0         0  \n29         0           0        0     0     0   0         0  \n...      ...         ...      ...   ...   ...  ..       ...  \n18695      0           0        0     0     0   0         0  \n18696      0           0        0     0     0   0         0  \n18697      0           0        0     0     0   0         0  \n18698      0           0        0     0     0   0         0  \n18699      0           0        0     0     0   0         0  \n18700      0           0        0     0     0   0         0  \n18701      0           0        0     0     0   0         0  \n18702      0           0        0     0     0   0         0  \n18703      0           0        0     0     0   0         0  \n18704      0           0        0     0     0   0         0  \n18705      0           0        0     0     0   0         0  \n18706      0           0        0     0     0   0         0  \n18707      0           0        0     0     0   0         0  \n18708      0           0        0     0     0   0         0  \n18709      0           0        0     0     0   0         0  \n18710      0           0        0     0     0   0         0  \n18711      0           0        0     0     0   0         0  \n18712      0           0        0     0     0   0         0  \n18713      0           0        0     0     0   0         0  \n18714      0           0        0     0     0   0         0  \n18715      0           0        0     0     0   0         0  \n18716      0           0        0     0     0   0         0  \n18717      0           0        0     0     0   0         0  \n18718      0           0        0     0     0   0         0  \n18719      0           0        0     0     0   0         0  \n18720      0           0        0     0     0   0         0  \n18721      0           0        0     0     0   0         0  \n18722      0           0        0     0     0   0         0  \n18723      0           0        0     0     0   0         0  \n18724      0           0        0     0     0   0         0  \n\n[18725 rows x 5002 columns]",
     "output_type": "error",
     "traceback": [
      "\u001b[1;31m---------------------------------------------------------------------------\u001b[0m",
      "\u001b[1;31mTypeError\u001b[0m                                 Traceback (most recent call last)",
      "\u001b[1;32m<ipython-input-59-22a04ed62028>\u001b[0m in \u001b[0;36m<module>\u001b[1;34m()\u001b[0m\n\u001b[0;32m      1\u001b[0m \u001b[1;31m##Split into train and test at 75/25\u001b[0m\u001b[1;33m\u001b[0m\u001b[1;33m\u001b[0m\u001b[0m\n\u001b[1;32m----> 2\u001b[1;33m \u001b[0mtrain\u001b[0m\u001b[1;33m,\u001b[0m \u001b[0mtest\u001b[0m \u001b[1;33m=\u001b[0m \u001b[0mtrain_test_split\u001b[0m\u001b[1;33m(\u001b[0m\u001b[0mdf3_count\u001b[0m\u001b[1;33m,\u001b[0m\u001b[0mtest_size\u001b[0m \u001b[1;33m=\u001b[0m \u001b[1;36m0.25\u001b[0m\u001b[1;33m,\u001b[0m \u001b[0mrandom_state\u001b[0m\u001b[1;33m=\u001b[0m\u001b[1;36m1\u001b[0m\u001b[1;33m)\u001b[0m\u001b[1;33m\u001b[0m\u001b[0m\n\u001b[0m",
      "\u001b[1;32mC:\\Anaconda3\\lib\\site-packages\\sklearn\\cross_validation.py\u001b[0m in \u001b[0;36mtrain_test_split\u001b[1;34m(*arrays, **options)\u001b[0m\n\u001b[0;32m   1904\u001b[0m     \u001b[1;32mif\u001b[0m \u001b[0mtest_size\u001b[0m \u001b[1;32mis\u001b[0m \u001b[1;32mNone\u001b[0m \u001b[1;32mand\u001b[0m \u001b[0mtrain_size\u001b[0m \u001b[1;32mis\u001b[0m \u001b[1;32mNone\u001b[0m\u001b[1;33m:\u001b[0m\u001b[1;33m\u001b[0m\u001b[0m\n\u001b[0;32m   1905\u001b[0m         \u001b[0mtest_size\u001b[0m \u001b[1;33m=\u001b[0m \u001b[1;36m0.25\u001b[0m\u001b[1;33m\u001b[0m\u001b[0m\n\u001b[1;32m-> 1906\u001b[1;33m     \u001b[0marrays\u001b[0m \u001b[1;33m=\u001b[0m \u001b[0mindexable\u001b[0m\u001b[1;33m(\u001b[0m\u001b[1;33m*\u001b[0m\u001b[0marrays\u001b[0m\u001b[1;33m)\u001b[0m\u001b[1;33m\u001b[0m\u001b[0m\n\u001b[0m\u001b[0;32m   1907\u001b[0m     \u001b[1;32mif\u001b[0m \u001b[0mstratify\u001b[0m \u001b[1;32mis\u001b[0m \u001b[1;32mnot\u001b[0m \u001b[1;32mNone\u001b[0m\u001b[1;33m:\u001b[0m\u001b[1;33m\u001b[0m\u001b[0m\n\u001b[0;32m   1908\u001b[0m         cv = StratifiedShuffleSplit(stratify, test_size=test_size,\n",
      "\u001b[1;32mC:\\Anaconda3\\lib\\site-packages\\sklearn\\utils\\validation.py\u001b[0m in \u001b[0;36mindexable\u001b[1;34m(*iterables)\u001b[0m\n\u001b[0;32m    199\u001b[0m         \u001b[1;32melse\u001b[0m\u001b[1;33m:\u001b[0m\u001b[1;33m\u001b[0m\u001b[0m\n\u001b[0;32m    200\u001b[0m             \u001b[0mresult\u001b[0m\u001b[1;33m.\u001b[0m\u001b[0mappend\u001b[0m\u001b[1;33m(\u001b[0m\u001b[0mnp\u001b[0m\u001b[1;33m.\u001b[0m\u001b[0marray\u001b[0m\u001b[1;33m(\u001b[0m\u001b[0mX\u001b[0m\u001b[1;33m)\u001b[0m\u001b[1;33m)\u001b[0m\u001b[1;33m\u001b[0m\u001b[0m\n\u001b[1;32m--> 201\u001b[1;33m     \u001b[0mcheck_consistent_length\u001b[0m\u001b[1;33m(\u001b[0m\u001b[1;33m*\u001b[0m\u001b[0mresult\u001b[0m\u001b[1;33m)\u001b[0m\u001b[1;33m\u001b[0m\u001b[0m\n\u001b[0m\u001b[0;32m    202\u001b[0m     \u001b[1;32mreturn\u001b[0m \u001b[0mresult\u001b[0m\u001b[1;33m\u001b[0m\u001b[0m\n\u001b[0;32m    203\u001b[0m \u001b[1;33m\u001b[0m\u001b[0m\n",
      "\u001b[1;32mC:\\Anaconda3\\lib\\site-packages\\sklearn\\utils\\validation.py\u001b[0m in \u001b[0;36mcheck_consistent_length\u001b[1;34m(*arrays)\u001b[0m\n\u001b[0;32m    171\u001b[0m     \"\"\"\n\u001b[0;32m    172\u001b[0m \u001b[1;33m\u001b[0m\u001b[0m\n\u001b[1;32m--> 173\u001b[1;33m     \u001b[0muniques\u001b[0m \u001b[1;33m=\u001b[0m \u001b[0mnp\u001b[0m\u001b[1;33m.\u001b[0m\u001b[0munique\u001b[0m\u001b[1;33m(\u001b[0m\u001b[1;33m[\u001b[0m\u001b[0m_num_samples\u001b[0m\u001b[1;33m(\u001b[0m\u001b[0mX\u001b[0m\u001b[1;33m)\u001b[0m \u001b[1;32mfor\u001b[0m \u001b[0mX\u001b[0m \u001b[1;32min\u001b[0m \u001b[0marrays\u001b[0m \u001b[1;32mif\u001b[0m \u001b[0mX\u001b[0m \u001b[1;32mis\u001b[0m \u001b[1;32mnot\u001b[0m \u001b[1;32mNone\u001b[0m\u001b[1;33m]\u001b[0m\u001b[1;33m)\u001b[0m\u001b[1;33m\u001b[0m\u001b[0m\n\u001b[0m\u001b[0;32m    174\u001b[0m     \u001b[1;32mif\u001b[0m \u001b[0mlen\u001b[0m\u001b[1;33m(\u001b[0m\u001b[0muniques\u001b[0m\u001b[1;33m)\u001b[0m \u001b[1;33m>\u001b[0m \u001b[1;36m1\u001b[0m\u001b[1;33m:\u001b[0m\u001b[1;33m\u001b[0m\u001b[0m\n\u001b[0;32m    175\u001b[0m         raise ValueError(\"Found arrays with inconsistent numbers of samples: \"\n",
      "\u001b[1;32mC:\\Anaconda3\\lib\\site-packages\\sklearn\\utils\\validation.py\u001b[0m in \u001b[0;36m<listcomp>\u001b[1;34m(.0)\u001b[0m\n\u001b[0;32m    171\u001b[0m     \"\"\"\n\u001b[0;32m    172\u001b[0m \u001b[1;33m\u001b[0m\u001b[0m\n\u001b[1;32m--> 173\u001b[1;33m     \u001b[0muniques\u001b[0m \u001b[1;33m=\u001b[0m \u001b[0mnp\u001b[0m\u001b[1;33m.\u001b[0m\u001b[0munique\u001b[0m\u001b[1;33m(\u001b[0m\u001b[1;33m[\u001b[0m\u001b[0m_num_samples\u001b[0m\u001b[1;33m(\u001b[0m\u001b[0mX\u001b[0m\u001b[1;33m)\u001b[0m \u001b[1;32mfor\u001b[0m \u001b[0mX\u001b[0m \u001b[1;32min\u001b[0m \u001b[0marrays\u001b[0m \u001b[1;32mif\u001b[0m \u001b[0mX\u001b[0m \u001b[1;32mis\u001b[0m \u001b[1;32mnot\u001b[0m \u001b[1;32mNone\u001b[0m\u001b[1;33m]\u001b[0m\u001b[1;33m)\u001b[0m\u001b[1;33m\u001b[0m\u001b[0m\n\u001b[0m\u001b[0;32m    174\u001b[0m     \u001b[1;32mif\u001b[0m \u001b[0mlen\u001b[0m\u001b[1;33m(\u001b[0m\u001b[0muniques\u001b[0m\u001b[1;33m)\u001b[0m \u001b[1;33m>\u001b[0m \u001b[1;36m1\u001b[0m\u001b[1;33m:\u001b[0m\u001b[1;33m\u001b[0m\u001b[0m\n\u001b[0;32m    175\u001b[0m         raise ValueError(\"Found arrays with inconsistent numbers of samples: \"\n",
      "\u001b[1;32mC:\\Anaconda3\\lib\\site-packages\\sklearn\\utils\\validation.py\u001b[0m in \u001b[0;36m_num_samples\u001b[1;34m(x)\u001b[0m\n\u001b[0;32m    110\u001b[0m         \u001b[1;31m# Don't get num_samples from an ensembles length!\u001b[0m\u001b[1;33m\u001b[0m\u001b[1;33m\u001b[0m\u001b[0m\n\u001b[0;32m    111\u001b[0m         raise TypeError('Expected sequence or array-like, got '\n\u001b[1;32m--> 112\u001b[1;33m                         'estimator %s' % x)\n\u001b[0m\u001b[0;32m    113\u001b[0m     \u001b[1;32mif\u001b[0m \u001b[1;32mnot\u001b[0m \u001b[0mhasattr\u001b[0m\u001b[1;33m(\u001b[0m\u001b[0mx\u001b[0m\u001b[1;33m,\u001b[0m \u001b[1;34m'__len__'\u001b[0m\u001b[1;33m)\u001b[0m \u001b[1;32mand\u001b[0m \u001b[1;32mnot\u001b[0m \u001b[0mhasattr\u001b[0m\u001b[1;33m(\u001b[0m\u001b[0mx\u001b[0m\u001b[1;33m,\u001b[0m \u001b[1;34m'shape'\u001b[0m\u001b[1;33m)\u001b[0m\u001b[1;33m:\u001b[0m\u001b[1;33m\u001b[0m\u001b[0m\n\u001b[0;32m    114\u001b[0m         \u001b[1;32mif\u001b[0m \u001b[0mhasattr\u001b[0m\u001b[1;33m(\u001b[0m\u001b[0mx\u001b[0m\u001b[1;33m,\u001b[0m \u001b[1;34m'__array__'\u001b[0m\u001b[1;33m)\u001b[0m\u001b[1;33m:\u001b[0m\u001b[1;33m\u001b[0m\u001b[0m\n",
      "\u001b[1;31mTypeError\u001b[0m: Expected sequence or array-like, got estimator                                                 sentence  category  able  \\\n0                                      thanks  nice spot  ambiance     0   \n1      this is a new pho place and the only phos rest...  ambiance     0   \n2               ambiance was bright chic and comfortable  ambiance     0   \n3           i remember liking this place in my past life  ambiance     0   \n4                              the lighting is very dark  ambiance     0   \n5                                very chill and inviting  ambiance     0   \n6      and the place is quiet during lunchtime during...  ambiance     0   \n7      there is a bar and grill a arcade a  story laz...  ambiance     0   \n8                                  casual fun atmosphere  ambiance     0   \n9      its a small restaurant with additional outdoor...  ambiance     0   \n10     its a good atmosphere for sure but the sushi c...  ambiance     0   \n11     this place was amazzzzing the ambiance was gre...  ambiance     0   \n12     the air was permeated with beefgrease and i im...  ambiance     0   \n13     some places get that nostalgic feel and they e...  ambiance     0   \n14     it really is a great place to chill out and relax  ambiance     0   \n15     ambienceupon entering i felt as if i left las ...  ambiance     0   \n16     the decor was classic hard rock cafe and so wa...  ambiance     0   \n17     revolution ale house has all the makings of a ...  ambiance     0   \n18     overall a cool place where it doesnt matter wh...  ambiance     0   \n19     does it match whats happening in other places ...  ambiance     0   \n20     located in old montreal this divy joint sits o...  ambiance     0   \n21     its refreshingly different from the minimal ut...  ambiance     0   \n22     the location is beautiful inside the jw marrio...  ambiance     0   \n23                       but its a very clean fresh feel  ambiance     0   \n24     probably one of the most highclass refined res...  ambiance     0   \n25               i do have to comment on the cleanliness  ambiance     0   \n26     check the china town surroundings very nice sp...  ambiance     0   \n27     undeterred we came in to familiar surroundings...  ambiance     0   \n28                its classy without being uncomfortable  ambiance     0   \n29     really beautiful inside so friendly and inviti...  ambiance     0   \n...                                                  ...       ...   ...   \n18695  i managed to find a seat and about  minutes la...      wait     0   \n18696  after  minutes i finally got the attention of ...      wait     0   \n18697  we waited  minutes  she had not been to our ta...      wait     0   \n18698  then we waited  mins to get the server to brin...      wait     0   \n18699                                            waiting      wait     0   \n18700                   its very busy as i would call it      wait     0   \n18701  i arrived about  only to see a sign saying sor...      wait     0   \n18702  we also waited at least seven minutes without ...      wait     0   \n18703  if  or  people are standing around outside the...      wait     0   \n18704  where do i start reservations were confirmed  ...      wait     0   \n18705  less than  minutes later they informed her tha...      wait     0   \n18706                      you are going to have to wait      wait     0   \n18707  it was in the middle of a downpour so our wait...      wait     0   \n18708                    can  be really crowded at times      wait     0   \n18709  a table of four came in after us and they were...      wait     0   \n18710          and non of our food came at the same time      wait     0   \n18711  the first time i was one of only a few custome...      wait     0   \n18712  we ordered  different dumplings mine arrived i...      wait     0   \n18713                                  we arrived about       wait     0   \n18714  now an hour and a half later im starving and e...      wait     0   \n18715                                     long long wait      wait     0   \n18716  this location is always very busy usually  min...      wait     0   \n18717  we were here early so we were able to snag a seat      wait     1   \n18718           we were a table of  and had reservations      wait     0   \n18719                              not super busy either      wait     0   \n18720                                          hrs later      wait     0   \n18721  we are very lowkey customers by nature  no sub...      wait     0   \n18722  the told us that they would find a seat and so...      wait     0   \n18723                     the only downside was the wait      wait     0   \n18724  i made a reservation beforehand so i wouldnt h...      wait     0   \n\n       absence  absolute  absolute favorite  absolutely  absolutely amazing  \\\n0            0         0                  0           0                   0   \n1            0         0                  0           0                   0   \n2            0         0                  0           0                   0   \n3            0         0                  0           0                   0   \n4            0         0                  0           0                   0   \n5            0         0                  0           0                   0   \n6            0         0                  0           0                   0   \n7            0         0                  0           0                   0   \n8            0         0                  0           0                   0   \n9            0         0                  0           0                   0   \n10           0         0                  0           0                   0   \n11           0         0                  0           0                   0   \n12           0         0                  0           0                   0   \n13           0         0                  0           0                   0   \n14           0         0                  0           0                   0   \n15           0         0                  0           0                   0   \n16           0         0                  0           0                   0   \n17           0         0                  0           0                   0   \n18           0         0                  0           0                   0   \n19           0         0                  0           0                   0   \n20           0         0                  0           0                   0   \n21           0         0                  0           0                   0   \n22           0         0                  0           0                   0   \n23           0         0                  0           0                   0   \n24           0         0                  0           0                   0   \n25           0         0                  0           0                   0   \n26           0         0                  0           0                   0   \n27           0         0                  0           0                   0   \n28           0         0                  0           0                   0   \n29           0         0                  0           0                   0   \n...        ...       ...                ...         ...                 ...   \n18695        0         0                  0           0                   0   \n18696        0         0                  0           0                   0   \n18697        0         0                  0           0                   0   \n18698        0         0                  0           0                   0   \n18699        0         0                  0           0                   0   \n18700        0         0                  0           0                   0   \n18701        0         0                  0           0                   0   \n18702        0         0                  0           0                   0   \n18703        0         0                  0           0                   0   \n18704        0         0                  0           0                   0   \n18705        0         0                  0           0                   0   \n18706        0         0                  0           0                   0   \n18707        0         0                  0           0                   0   \n18708        0         0                  0           0                   0   \n18709        0         0                  0           0                   0   \n18710        0         0                  0           0                   0   \n18711        0         0                  0           0                   0   \n18712        0         0                  0           0                   0   \n18713        0         0                  0           0                   0   \n18714        0         0                  0           0                   0   \n18715        0         0                  0           0                   0   \n18716        0         0                  0           0                   0   \n18717        0         0                  0           0                   0   \n18718        0         0                  0           0                   0   \n18719        0         0                  0           0                   0   \n18720        0         0                  0           0                   0   \n18721        0         0                  0           0                   0   \n18722        0         0                  0           0                   0   \n18723        0         0                  0           0                   0   \n18724        0         0                  0           0                   0   \n\n       absolutely delicious  absolutely love    ...     yes  yesterday  york  \\\n0                         0                0    ...       0          0     0   \n1                         0                0    ...       0          0     0   \n2                         0                0    ...       0          0     0   \n3                         0                0    ...       0          0     0   \n4                         0                0    ...       0          0     0   \n5                         0                0    ...       0          0     0   \n6                         0                0    ...       0          0     0   \n7                         0                0    ...       0          0     0   \n8                         0                0    ...       0          0     0   \n9                         0                0    ...       0          0     0   \n10                        0                0    ...       0          0     0   \n11                        0                0    ...       0          0     0   \n12                        0                0    ...       0          0     0   \n13                        0                0    ...       0          0     0   \n14                        0                0    ...       0          0     0   \n15                        0                0    ...       0          0     0   \n16                        0                0    ...       0          0     0   \n17                        0                0    ...       0          0     0   \n18                        0                0    ...       0          0     0   \n19                        0                0    ...       0          0     0   \n20                        0                0    ...       0          0     0   \n21                        0                0    ...       0          0     0   \n22                        0                0    ...       0          0     0   \n23                        0                0    ...       0          0     0   \n24                        0                0    ...       0          0     0   \n25                        0                0    ...       0          0     0   \n26                        0                0    ...       0          0     0   \n27                        0                0    ...       0          0     0   \n28                        0                0    ...       0          0     0   \n29                        0                0    ...       0          0     0   \n...                     ...              ...    ...     ...        ...   ...   \n18695                     0                0    ...       0          0     0   \n18696                     0                0    ...       0          0     0   \n18697                     0                0    ...       0          0     0   \n18698                     0                0    ...       0          0     0   \n18699                     0                0    ...       0          0     0   \n18700                     0                0    ...       0          0     0   \n18701                     0                0    ...       0          0     0   \n18702                     0                0    ...       0          0     0   \n18703                     0                0    ...       0          0     0   \n18704                     0                0    ...       0          0     0   \n18705                     0                0    ...       0          0     0   \n18706                     0                0    ...       0          0     0   \n18707                     0                0    ...       0          0     0   \n18708                     0                0    ...       0          0     0   \n18709                     0                0    ...       0          0     0   \n18710                     0                0    ...       0          0     0   \n18711                     0                0    ...       0          0     0   \n18712                     0                0    ...       0          0     0   \n18713                     0                0    ...       0          0     0   \n18714                     0                0    ...       0          0     0   \n18715                     0                0    ...       0          0     0   \n18716                     0                0    ...       0          0     0   \n18717                     0                0    ...       0          0     0   \n18718                     0                0    ...       0          0     0   \n18719                     0                0    ...       0          0     0   \n18720                     0                0    ...       0          0     0   \n18721                     0                0    ...       0          0     0   \n18722                     0                0    ...       0          0     0   \n18723                     0                0    ...       0          0     0   \n18724                     0                0    ...       0          0     0   \n\n       young  young lady  yummmmm  zero  zest  zu  zucchini  \n0          0           0        0     0     0   0         0  \n1          0           0        0     0     0   0         0  \n2          0           0        0     0     0   0         0  \n3          0           0        0     0     0   0         0  \n4          0           0        0     0     0   0         0  \n5          0           0        0     0     0   0         0  \n6          0           0        0     0     0   0         0  \n7          0           0        0     0     0   0         0  \n8          0           0        0     0     0   0         0  \n9          0           0        0     0     0   0         0  \n10         0           0        0     0     0   0         0  \n11         0           0        0     0     0   0         0  \n12         0           0        0     0     0   0         0  \n13         0           0        0     0     0   0         0  \n14         0           0        0     0     0   0         0  \n15         0           0        0     0     0   0         0  \n16         0           0        0     0     0   0         0  \n17         0           0        0     0     0   0         0  \n18         0           0        0     0     0   0         0  \n19         0           0        0     0     0   0         0  \n20         0           0        0     0     0   0         0  \n21         0           0        0     0     0   0         0  \n22         0           0        0     0     0   0         0  \n23         0           0        0     0     0   0         0  \n24         0           0        0     0     0   0         0  \n25         0           0        0     0     0   0         0  \n26         0           0        0     0     0   0         0  \n27         0           0        0     0     0   0         0  \n28         0           0        0     0     0   0         0  \n29         0           0        0     0     0   0         0  \n...      ...         ...      ...   ...   ...  ..       ...  \n18695      0           0        0     0     0   0         0  \n18696      0           0        0     0     0   0         0  \n18697      0           0        0     0     0   0         0  \n18698      0           0        0     0     0   0         0  \n18699      0           0        0     0     0   0         0  \n18700      0           0        0     0     0   0         0  \n18701      0           0        0     0     0   0         0  \n18702      0           0        0     0     0   0         0  \n18703      0           0        0     0     0   0         0  \n18704      0           0        0     0     0   0         0  \n18705      0           0        0     0     0   0         0  \n18706      0           0        0     0     0   0         0  \n18707      0           0        0     0     0   0         0  \n18708      0           0        0     0     0   0         0  \n18709      0           0        0     0     0   0         0  \n18710      0           0        0     0     0   0         0  \n18711      0           0        0     0     0   0         0  \n18712      0           0        0     0     0   0         0  \n18713      0           0        0     0     0   0         0  \n18714      0           0        0     0     0   0         0  \n18715      0           0        0     0     0   0         0  \n18716      0           0        0     0     0   0         0  \n18717      0           0        0     0     0   0         0  \n18718      0           0        0     0     0   0         0  \n18719      0           0        0     0     0   0         0  \n18720      0           0        0     0     0   0         0  \n18721      0           0        0     0     0   0         0  \n18722      0           0        0     0     0   0         0  \n18723      0           0        0     0     0   0         0  \n18724      0           0        0     0     0   0         0  \n\n[18725 rows x 5002 columns]"
     ]
    }
   ],
   "source": [
    "##Split into train and test at 75/25\n",
    "train, test = train_test_split(df3_count,test_size = 0.25, random_state=1)"
   ]
  },
  {
   "cell_type": "code",
   "execution_count": null,
   "metadata": {
    "collapsed": false
   },
   "outputs": [],
   "source": [
    "msk = np.random.random(df3_count.shape[0]) < 0.8"
   ]
  },
  {
   "cell_type": "code",
   "execution_count": null,
   "metadata": {
    "collapsed": true
   },
   "outputs": [],
   "source": [
    "train = df3_count[msk]\n",
    "test = df3_count[~msk]"
   ]
  },
  {
   "cell_type": "code",
   "execution_count": null,
   "metadata": {
    "collapsed": true
   },
   "outputs": [],
   "source": [
    "##Split X & Y\n",
    "X_train = train.iloc[:,2:]\n",
    "Y_train = train.iloc[:,1]\n",
    "X_test = test.iloc[:,2:]\n",
    "Y_test = test.iloc[:,1]"
   ]
  },
  {
   "cell_type": "code",
   "execution_count": null,
   "metadata": {
    "collapsed": false
   },
   "outputs": [],
   "source": [
    "from sklearn.metrics import confusion_matrix\n",
    "from sklearn.metrics import classification_report\n",
    "\n",
    "## NaiveBayes\n",
    "from sklearn.naive_bayes import MultinomialNB\n",
    "nb = MultinomialNB().fit(X_train,Y_train)\n",
    "nb_Y_pred = nb.predict(X_test)\n",
    "print(\"NB Accuracy: \",np.mean(nb_Y_pred == np.array(Y_test)))\n",
    "print(classification_report(Y_test,nb_Y_pred))\n",
    "\n",
    "## Logistic\n",
    "from sklearn.linear_model import LogisticRegression\n",
    "log = LogisticRegression(multi_class='multinomial',solver='newton-cg').fit(X_train,Y_train)\n",
    "log_Y_pred = log.predict(X_test)\n",
    "print(\"Logistc Accuracy: \",np.mean(log_Y_pred == np.array(Y_test)))\n",
    "print(classification_report(Y_test,log_Y_pred))\n",
    "\n",
    "##KNN\n",
    "from sklearn.neighbors import KNeighborsClassifier\n",
    "for neigh in range(1,5):\n",
    "    knn = KNeighborsClassifier(n_neighbors=neigh).fit(X_train,Y_train)\n",
    "    knn_Y_pred = knn.predict(X_test)\n",
    "    print(neigh,\"KNN Accuracy: \",np.mean(knn_Y_pred == np.array(Y_test)))\n",
    "    print(classification_report(Y_test,knn_Y_pred))\n",
    "\n",
    "## Linear SVC\n",
    "from sklearn.svm import SVC\n",
    "svcl = SVC(kernel='linear').fit(X_train,Y_train)\n",
    "svcl_Y_pred = svcl.predict(X_test)\n",
    "print(\"SVC Linear Accuracy: \",np.mean(svcl_Y_pred == np.array(Y_test)))\n",
    "print(classification_report(Y_test,svcl_Y_pred))\n",
    "\n",
    "## RBF SVC\n",
    "from sklearn.svm import SVC\n",
    "svcrbf = SVC(kernel='rbf', gamma=3).fit(X_train,Y_train)\n",
    "svcrbf_Y_pred = svcrbf.predict(X_test)\n",
    "print(\"SVC RBF Accuracy: \",np.mean(svcrbf_Y_pred == np.array(Y_test)))\n",
    "print(classification_report(Y_test,svcrbf_Y_pred))\n",
    "\n",
    "## Decision Tree\n",
    "from sklearn.tree import DecisionTreeClassifier\n",
    "dt = DecisionTreeClassifier().fit(X_train,Y_train)\n",
    "dt_Y_pred = dt.predict(X_test)\n",
    "print(\"Decision Tree Accuracy: \",np.mean(dt_Y_pred == np.array(Y_test)))\n",
    "print(classification_report(Y_test,dt_Y_pred))\n",
    "\n",
    "## Random Forests\n",
    "from sklearn.ensemble import RandomForestClassifier\n",
    "rf = RandomForestClassifier().fit(X_train,Y_train)\n",
    "rf_Y_pred = rf.predict(X_test)\n",
    "print(\"Random Forests Accuracy: \",np.mean(rf_Y_pred == np.array(Y_test)))\n",
    "print(classification_report(Y_test,rf_Y_pred))"
   ]
  },
  {
   "cell_type": "markdown",
   "metadata": {},
   "source": [
    "# Neural Network"
   ]
  },
  {
   "cell_type": "code",
   "execution_count": null,
   "metadata": {
    "collapsed": true
   },
   "outputs": [],
   "source": [
    "# food = 1\n",
    "# service = 2\n",
    "# ambiance = 3\n",
    "# others = 4\n",
    "\n",
    "def integerize(x):\n",
    "    if x == 'food':\n",
    "        return 1\n",
    "    elif x == 'service':\n",
    "        return 2\n",
    "    elif x == 'ambiance':\n",
    "        return 3\n",
    "    else:\n",
    "        return 4"
   ]
  },
  {
   "cell_type": "code",
   "execution_count": null,
   "metadata": {
    "collapsed": true
   },
   "outputs": [],
   "source": [
    "df4 = df3_tf.copy()"
   ]
  },
  {
   "cell_type": "code",
   "execution_count": null,
   "metadata": {
    "collapsed": true
   },
   "outputs": [],
   "source": [
    "df4.category = df3_tf.category.apply(integerize)"
   ]
  },
  {
   "cell_type": "code",
   "execution_count": null,
   "metadata": {
    "collapsed": true
   },
   "outputs": [],
   "source": [
    "train_nn, test_nn = train_test_split(df4,test_size = 0.25)\n",
    "X_train_nn = train_nn.iloc[:,2:].reset_index(drop=True)\n",
    "Y_train_nn = train_nn.iloc[:,1].reset_index(drop=True)\n",
    "X_test_nn = test_nn.iloc[:,2:].reset_index(drop=True)\n",
    "Y_test_nn = test_nn.iloc[:,1].reset_index(drop=True)"
   ]
  },
  {
   "cell_type": "code",
   "execution_count": null,
   "metadata": {
    "collapsed": false
   },
   "outputs": [],
   "source": [
    "from sknn.mlp import Classifier, Layer\n",
    "\n",
    "nn = Classifier(\n",
    "    layers=[\n",
    "        Layer(\"Tanh\", units=200),\n",
    "        Layer(\"Softmax\")],\n",
    "    learning_rate=0.001,\n",
    "    n_iter=50,\n",
    "    loss_type='mcc')\n",
    "nn.fit(df4.iloc[:,2:], df4.iloc[:,1])"
   ]
  },
  {
   "cell_type": "code",
   "execution_count": null,
   "metadata": {
    "collapsed": false
   },
   "outputs": [],
   "source": [
    "y_pred = nn.predict(df4.iloc[:,2:])"
   ]
  },
  {
   "cell_type": "code",
   "execution_count": null,
   "metadata": {
    "collapsed": false
   },
   "outputs": [],
   "source": [
    "print(\"NN: \",np.mean(y_pred == np.array(df4.iloc[:,1])))\n",
    "print(classification_report(df4.iloc[:,1],y_pred))"
   ]
  },
  {
   "cell_type": "markdown",
   "metadata": {},
   "source": [
    "# Vectorizing New Text"
   ]
  },
  {
   "cell_type": "code",
   "execution_count": 42,
   "metadata": {
    "collapsed": false
   },
   "outputs": [],
   "source": [
    "new_text = df2.sentence"
   ]
  },
  {
   "cell_type": "code",
   "execution_count": 57,
   "metadata": {
    "collapsed": false
   },
   "outputs": [],
   "source": [
    "vocab_list = tfvectorizer.get_feature_names()"
   ]
  },
  {
   "cell_type": "code",
   "execution_count": 58,
   "metadata": {
    "collapsed": false
   },
   "outputs": [],
   "source": [
    "vocab_dict = dict.fromkeys(vocab_list)"
   ]
  },
  {
   "cell_type": "code",
   "execution_count": 59,
   "metadata": {
    "collapsed": false
   },
   "outputs": [],
   "source": [
    "tfvectorizer2 = TfidfVectorizer(ngram_range=(1,3),min_df = 3,tokenizer=tokenizeText,sublinear_tf=True,vocabulary=vocab_dict)"
   ]
  },
  {
   "cell_type": "code",
   "execution_count": 60,
   "metadata": {
    "collapsed": false
   },
   "outputs": [
    {
     "data": {
      "text/plain": [
       "208"
      ]
     },
     "execution_count": 60,
     "metadata": {},
     "output_type": "execute_result"
    }
   ],
   "source": [
    "len(vocab_list)"
   ]
  },
  {
   "cell_type": "code",
   "execution_count": 68,
   "metadata": {
    "collapsed": false
   },
   "outputs": [],
   "source": [
    "check = tfvectorizer.transform(new_text[0:100])"
   ]
  },
  {
   "cell_type": "code",
   "execution_count": 69,
   "metadata": {
    "collapsed": false
   },
   "outputs": [
    {
     "data": {
      "text/plain": [
       "<100x208 sparse matrix of type '<class 'numpy.float64'>'\n",
       "\twith 286 stored elements in Compressed Sparse Row format>"
      ]
     },
     "execution_count": 69,
     "metadata": {},
     "output_type": "execute_result"
    }
   ],
   "source": [
    "check"
   ]
  },
  {
   "cell_type": "code",
   "execution_count": null,
   "metadata": {
    "collapsed": true
   },
   "outputs": [],
   "source": []
  }
 ],
 "metadata": {
  "kernelspec": {
   "display_name": "Python 3",
   "language": "python",
   "name": "python3"
  },
  "language_info": {
   "codemirror_mode": {
    "name": "ipython",
    "version": 3
   },
   "file_extension": ".py",
   "mimetype": "text/x-python",
   "name": "python",
   "nbconvert_exporter": "python",
   "pygments_lexer": "ipython3",
   "version": "3.5.1"
  }
 },
 "nbformat": 4,
 "nbformat_minor": 0
}
